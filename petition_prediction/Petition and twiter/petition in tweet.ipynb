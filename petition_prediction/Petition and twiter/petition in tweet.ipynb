{
 "cells": [
  {
   "cell_type": "markdown",
   "metadata": {},
   "source": [
    "## analyze supporter No. vs tweeting time"
   ]
  },
  {
   "cell_type": "code",
   "execution_count": 89,
   "metadata": {
    "collapsed": true
   },
   "outputs": [],
   "source": [
    "import numpy as np"
   ]
  },
  {
   "cell_type": "code",
   "execution_count": null,
   "metadata": {
    "collapsed": true
   },
   "outputs": [],
   "source": []
  },
  {
   "cell_type": "code",
   "execution_count": 8,
   "metadata": {},
   "outputs": [
    {
     "name": "stderr",
     "output_type": "stream",
     "text": [
      "/Users/feiwang/anaconda3/envs/py36er/lib/python3.6/site-packages/ipykernel_launcher.py:4: DeprecationWarning: 'U' mode is deprecated\n",
      "  after removing the cwd from sys.path.\n"
     ]
    }
   ],
   "source": [
    "import csv \n",
    "import sys #used for passing in the argument\n",
    "file_name = sys.argv[1] #filename is argument 1\n",
    "with open('petitions.csv', 'rU') as f:  #opens PW file\n",
    "    reader = csv.reader(f)\n",
    "    #data = list(list(rec) for rec in csv.reader(f, delimiter=',')) #reads csv into a list of lists\n",
    "\n",
    "#     for row in data:\n",
    "#         print (row[0]) #this alone will print all the computer names\n",
    "#         for username in row: #Trying to run another for loop to print the usernames\n",
    "#             print (username)"
   ]
  },
  {
   "cell_type": "code",
   "execution_count": 40,
   "metadata": {
    "scrolled": false
   },
   "outputs": [],
   "source": [
    "\n",
    "import csv\n",
    "import sys\n",
    "from collections import defaultdict\n",
    "links = defaultdict(list)\n",
    "# links = []\n",
    "with open('petitions.csv', 'r') as f:\n",
    "    reader = csv.reader(f)\n",
    "    for row in reader:\n",
    "        links[row[0]] = []\n",
    "        tweet_links=[]\n",
    "        target_No=row[-2:-1][0]\n",
    "        actual_No=row[-1:][0]\n",
    "        i=0  ##No.retweets\n",
    "        for element in row[1:-2]:\n",
    "#             print(element)\n",
    "            tweet_links.append(element)\n",
    "            i+=1\n",
    "        links[row[0]] = [target_No, actual_No,i,tweet_links]"
   ]
  },
  {
   "cell_type": "code",
   "execution_count": 41,
   "metadata": {},
   "outputs": [],
   "source": [
    "#links['http://www.thepetitionsite.com/790/294/887/china-punish-buyers-of-poached-tiger-body-parts/'][-3:]"
   ]
  },
  {
   "cell_type": "markdown",
   "metadata": {},
   "source": [
    "key : (links, target_value, actual_value)"
   ]
  },
  {
   "cell_type": "code",
   "execution_count": 48,
   "metadata": {},
   "outputs": [],
   "source": [
    "import pandas as pd\n",
    "tweet_df=pd.DataFrame.from_dict(links, orient='index')\n",
    "tweet_df.reset_index(inplace=True)"
   ]
  },
  {
   "cell_type": "code",
   "execution_count": 49,
   "metadata": {},
   "outputs": [],
   "source": [
    "tweet_df.columns=['Petition_Url','Goal_No','Actual_No','Retweet_No','Tweet_links']"
   ]
  },
  {
   "cell_type": "code",
   "execution_count": 82,
   "metadata": {},
   "outputs": [],
   "source": [
    "def str2float(s):\n",
    "    s = str(s).strip().replace(',','')\n",
    "#     s = str(s).strip().replace('\\s*','')\n",
    "#     s = re.sub('[^0-9]+', '0', s)\n",
    "    return float(s)\n",
    "tweet_df[['Goal_No','Actual_No']]=tweet_df[['Goal_No','Actual_No']].applymap(str2float)\n",
    "#tweet_df[['Goal_No',]].applymap(str2float).astype(float)\n",
    "# tweet_df['Goal_No'].apply(lambda x: x.strip().replace(',', '')).astype(float)"
   ]
  },
  {
   "cell_type": "code",
   "execution_count": 106,
   "metadata": {
    "collapsed": true
   },
   "outputs": [],
   "source": [
    "tweet_df['Log_goal']=np.log10(tweet_df.Goal_No)\n",
    "tweet_df['Log_actual']=np.log10(tweet_df.Actual_No)\n",
    "tweet_df['Log_retweet']=np.log10(tweet_df.Retweet_No)"
   ]
  },
  {
   "cell_type": "code",
   "execution_count": 100,
   "metadata": {},
   "outputs": [
    {
     "data": {
      "text/plain": [
       "<seaborn.axisgrid.FacetGrid at 0x123b0e4a8>"
      ]
     },
     "execution_count": 100,
     "metadata": {},
     "output_type": "execute_result"
    },
    {
     "data": {
      "image/png": "[encoded data removed]",
      "text/plain": [
       "<matplotlib.figure.Figure at 0x123a83518>"
      ]
     },
     "metadata": {},
     "output_type": "display_data"
    }
   ],
   "source": [
    "%matplotlib inline\n",
    "import seaborn as sns\n",
    "\n",
    "sns.lmplot(x='Log_goal', y='Log_actual',data=tweet_df, size=4)"
   ]
  },
  {
   "cell_type": "code",
   "execution_count": 104,
   "metadata": {},
   "outputs": [
    {
     "data": {
      "text/plain": [
       "<matplotlib.axes._subplots.AxesSubplot at 0x124575588>"
      ]
     },
     "execution_count": 104,
     "metadata": {},
     "output_type": "execute_result"
    },
    {
     "data": {
      "image/png": "[encoded data removed]",
      "text/plain": [
       "<matplotlib.figure.Figure at 0x124573b38>"
      ]
     },
     "metadata": {},
     "output_type": "display_data"
    }
   ],
   "source": [
    "sns.distplot(tweet_df.Log_actual)"
   ]
  },
  {
   "cell_type": "code",
   "execution_count": 105,
   "metadata": {},
   "outputs": [
    {
     "data": {
      "text/plain": [
       "<matplotlib.axes._subplots.AxesSubplot at 0x12421f080>"
      ]
     },
     "execution_count": 105,
     "metadata": {},
     "output_type": "execute_result"
    },
    {
     "data": {
      "image/png": "[encoded data removed]",
      "text/plain": [
       "<matplotlib.figure.Figure at 0x12421b898>"
      ]
     },
     "metadata": {},
     "output_type": "display_data"
    }
   ],
   "source": [
    "sns.distplot(tweet_df.Log_goal)"
   ]
  },
  {
   "cell_type": "code",
   "execution_count": 107,
   "metadata": {},
   "outputs": [
    {
     "data": {
      "text/plain": [
       "<matplotlib.axes._subplots.AxesSubplot at 0x1148a2f98>"
      ]
     },
     "execution_count": 107,
     "metadata": {},
     "output_type": "execute_result"
    },
    {
     "data": {
      "image/png": "[encoded data removed]",
      "text/plain": [
       "<matplotlib.figure.Figure at 0x1147a7978>"
      ]
     },
     "metadata": {},
     "output_type": "display_data"
    }
   ],
   "source": [
    "sns.distplot(tweet_df.Log_retweet)"
   ]
  },
  {
   "cell_type": "code",
   "execution_count": 102,
   "metadata": {},
   "outputs": [
    {
     "data": {
      "text/plain": [
       "<matplotlib.axes._subplots.AxesSubplot at 0x123d386a0>"
      ]
     },
     "execution_count": 102,
     "metadata": {},
     "output_type": "execute_result"
    },
    {
     "data": {
      "image/png": "[encoded data removed]",
      "text/plain": [
       "<matplotlib.figure.Figure at 0x123d4dba8>"
      ]
     },
     "metadata": {},
     "output_type": "display_data"
    }
   ],
   "source": [
    "sns.distplot(tweet_df.Retweet_No)"
   ]
  },
  {
   "cell_type": "code",
   "execution_count": 131,
   "metadata": {},
   "outputs": [
    {
     "data": {
      "text/plain": [
       "<seaborn.axisgrid.FacetGrid at 0x115015ef0>"
      ]
     },
     "execution_count": 131,
     "metadata": {},
     "output_type": "execute_result"
    },
    {
     "data": {
      "image/png": "[encoded data removed]",
      "text/plain": [
       "<matplotlib.figure.Figure at 0x115015048>"
      ]
     },
     "metadata": {},
     "output_type": "display_data"
    }
   ],
   "source": [
    "sns.lmplot(x='Log_retweet', y='Log_actual',data=tweet_df.loc[tweet_df.Log_retweet<2], size=4)"
   ]
  },
  {
   "cell_type": "code",
   "execution_count": 127,
   "metadata": {},
   "outputs": [
    {
     "data": {
      "text/html": [
       "<div>\n",
       "<style>\n",
       "    .dataframe thead tr:only-child th {\n",
       "        text-align: right;\n",
       "    }\n",
       "\n",
       "    .dataframe thead th {\n",
       "        text-align: left;\n",
       "    }\n",
       "\n",
       "    .dataframe tbody tr th {\n",
       "        vertical-align: top;\n",
       "    }\n",
       "</style>\n",
       "<table border=\"1\" class=\"dataframe\">\n",
       "  <thead>\n",
       "    <tr style=\"text-align: right;\">\n",
       "      <th></th>\n",
       "      <th>Petition_Url</th>\n",
       "      <th>Goal_No</th>\n",
       "      <th>Actual_No</th>\n",
       "      <th>Retweet_No</th>\n",
       "      <th>Tweet_links</th>\n",
       "      <th>Log_goal</th>\n",
       "      <th>Log_actual</th>\n",
       "      <th>Log_retweet</th>\n",
       "    </tr>\n",
       "  </thead>\n",
       "  <tbody>\n",
       "    <tr>\n",
       "      <th>12</th>\n",
       "      <td>https://you.38degrees.org.uk/petitions/no-priv...</td>\n",
       "      <td>200000.0</td>\n",
       "      <td>138520.0</td>\n",
       "      <td>16</td>\n",
       "      <td>[http://twitter.com/EastCambsGreens/status/563...</td>\n",
       "      <td>5.301030</td>\n",
       "      <td>5.141512</td>\n",
       "      <td>1.204120</td>\n",
       "    </tr>\n",
       "    <tr>\n",
       "      <th>26</th>\n",
       "      <td>http://www.thepetitionsite.com/takeaction/673/...</td>\n",
       "      <td>150000.0</td>\n",
       "      <td>145323.0</td>\n",
       "      <td>20</td>\n",
       "      <td>[http://twitter.com/twalt01/status/55858299942...</td>\n",
       "      <td>5.176091</td>\n",
       "      <td>5.162334</td>\n",
       "      <td>1.301030</td>\n",
       "    </tr>\n",
       "    <tr>\n",
       "      <th>27</th>\n",
       "      <td>http://www.thepetitionsite.com/350/765/758/dem...</td>\n",
       "      <td>100000.0</td>\n",
       "      <td>111574.0</td>\n",
       "      <td>20</td>\n",
       "      <td>[http://twitter.com/orcafree01/status/56453868...</td>\n",
       "      <td>5.000000</td>\n",
       "      <td>5.047563</td>\n",
       "      <td>1.301030</td>\n",
       "    </tr>\n",
       "    <tr>\n",
       "      <th>29</th>\n",
       "      <td>http://www.thepetitionsite.com/takeaction/290/...</td>\n",
       "      <td>125000.0</td>\n",
       "      <td>122632.0</td>\n",
       "      <td>10</td>\n",
       "      <td>[http://twitter.com/KCroyal23/status/559921553...</td>\n",
       "      <td>5.096910</td>\n",
       "      <td>5.088604</td>\n",
       "      <td>1.000000</td>\n",
       "    </tr>\n",
       "    <tr>\n",
       "      <th>54</th>\n",
       "      <td>http://www.thepetitionsite.com/765/646/549/ret...</td>\n",
       "      <td>160000.0</td>\n",
       "      <td>156542.0</td>\n",
       "      <td>30</td>\n",
       "      <td>[http://twitter.com/xx4lennoxxx/status/5515479...</td>\n",
       "      <td>5.204120</td>\n",
       "      <td>5.194631</td>\n",
       "      <td>1.477121</td>\n",
       "    </tr>\n",
       "    <tr>\n",
       "      <th>62</th>\n",
       "      <td>http://www.thepetitionsite.com/991/631/242/sto...</td>\n",
       "      <td>100000.0</td>\n",
       "      <td>101422.0</td>\n",
       "      <td>10</td>\n",
       "      <td>[http://twitter.com/ujajura/status/57057159069...</td>\n",
       "      <td>5.000000</td>\n",
       "      <td>5.006132</td>\n",
       "      <td>1.000000</td>\n",
       "    </tr>\n",
       "    <tr>\n",
       "      <th>64</th>\n",
       "      <td>http://www.thepetitionsite.com/takeaction/875/...</td>\n",
       "      <td>200000.0</td>\n",
       "      <td>196412.0</td>\n",
       "      <td>11</td>\n",
       "      <td>[http://twitter.com/rustygreen59/status/553104...</td>\n",
       "      <td>5.301030</td>\n",
       "      <td>5.293168</td>\n",
       "      <td>1.041393</td>\n",
       "    </tr>\n",
       "    <tr>\n",
       "      <th>72</th>\n",
       "      <td>http://www.thepetitionsite.com/takeaction/697/...</td>\n",
       "      <td>150000.0</td>\n",
       "      <td>133806.0</td>\n",
       "      <td>21</td>\n",
       "      <td>[http://twitter.com/B4Sue/status/5594762237019...</td>\n",
       "      <td>5.176091</td>\n",
       "      <td>5.126476</td>\n",
       "      <td>1.322219</td>\n",
       "    </tr>\n",
       "    <tr>\n",
       "      <th>79</th>\n",
       "      <td>https://www.sauvonslaforet.org/petitions/982/l...</td>\n",
       "      <td>100000.0</td>\n",
       "      <td>126734.0</td>\n",
       "      <td>25</td>\n",
       "      <td>[http://twitter.com/Eyroine_/status/5607364031...</td>\n",
       "      <td>5.000000</td>\n",
       "      <td>5.102893</td>\n",
       "      <td>1.397940</td>\n",
       "    </tr>\n",
       "    <tr>\n",
       "      <th>107</th>\n",
       "      <td>https://www.regenwald.org/aktion/981/nicht-in-...</td>\n",
       "      <td>100000.0</td>\n",
       "      <td>102247.0</td>\n",
       "      <td>24</td>\n",
       "      <td>[http://twitter.com/Binbags4africa/status/5554...</td>\n",
       "      <td>5.000000</td>\n",
       "      <td>5.009651</td>\n",
       "      <td>1.380211</td>\n",
       "    </tr>\n",
       "    <tr>\n",
       "      <th>109</th>\n",
       "      <td>https://www.sauvonslaforet.org/petitions/979/v...</td>\n",
       "      <td>100000.0</td>\n",
       "      <td>102350.0</td>\n",
       "      <td>8</td>\n",
       "      <td>[http://twitter.com/Eyroine_/status/5564327929...</td>\n",
       "      <td>5.000000</td>\n",
       "      <td>5.010088</td>\n",
       "      <td>0.903090</td>\n",
       "    </tr>\n",
       "    <tr>\n",
       "      <th>117</th>\n",
       "      <td>https://twitter.com/safety/unsafe_link_warning</td>\n",
       "      <td>200000.0</td>\n",
       "      <td>179846.0</td>\n",
       "      <td>16</td>\n",
       "      <td>[http://twitter.com/EcoWarrior1980/status/5533...</td>\n",
       "      <td>5.301030</td>\n",
       "      <td>5.254901</td>\n",
       "      <td>1.204120</td>\n",
       "    </tr>\n",
       "    <tr>\n",
       "      <th>133</th>\n",
       "      <td>http://www.thepetitionsite.com/259/953/103/sto...</td>\n",
       "      <td>200000.0</td>\n",
       "      <td>198449.0</td>\n",
       "      <td>17</td>\n",
       "      <td>[http://twitter.com/TamsynCarstens/status/5708...</td>\n",
       "      <td>5.301030</td>\n",
       "      <td>5.297649</td>\n",
       "      <td>1.230449</td>\n",
       "    </tr>\n",
       "    <tr>\n",
       "      <th>155</th>\n",
       "      <td>http://action.sumofus.org/a/bc-bottled-water/</td>\n",
       "      <td>240000.0</td>\n",
       "      <td>236275.0</td>\n",
       "      <td>4</td>\n",
       "      <td>[http://twitter.com/thewallofgeckos/status/571...</td>\n",
       "      <td>5.380211</td>\n",
       "      <td>5.373418</td>\n",
       "      <td>0.602060</td>\n",
       "    </tr>\n",
       "    <tr>\n",
       "      <th>156</th>\n",
       "      <td>http://www.thepetitionsite.com/takeaction/288/...</td>\n",
       "      <td>120000.0</td>\n",
       "      <td>118787.0</td>\n",
       "      <td>4</td>\n",
       "      <td>[http://twitter.com/bioterra/status/5545812013...</td>\n",
       "      <td>5.079181</td>\n",
       "      <td>5.074769</td>\n",
       "      <td>0.602060</td>\n",
       "    </tr>\n",
       "    <tr>\n",
       "      <th>158</th>\n",
       "      <td>http://www.thepetitionsite.com/251/460/189/we-...</td>\n",
       "      <td>500000.0</td>\n",
       "      <td>186329.0</td>\n",
       "      <td>17</td>\n",
       "      <td>[http://twitter.com/stoddardhelen/status/55465...</td>\n",
       "      <td>5.698970</td>\n",
       "      <td>5.270280</td>\n",
       "      <td>1.230449</td>\n",
       "    </tr>\n",
       "    <tr>\n",
       "      <th>159</th>\n",
       "      <td>http://www.thepetitionsite.com/takeaction/658/...</td>\n",
       "      <td>160000.0</td>\n",
       "      <td>163797.0</td>\n",
       "      <td>19</td>\n",
       "      <td>[http://twitter.com/romybank/status/5581760926...</td>\n",
       "      <td>5.204120</td>\n",
       "      <td>5.214306</td>\n",
       "      <td>1.278754</td>\n",
       "    </tr>\n",
       "    <tr>\n",
       "      <th>181</th>\n",
       "      <td>http://www.thepetitionsite.com/takeaction/934/...</td>\n",
       "      <td>120000.0</td>\n",
       "      <td>121149.0</td>\n",
       "      <td>23</td>\n",
       "      <td>[http://twitter.com/bonnyblueeyes/status/55728...</td>\n",
       "      <td>5.079181</td>\n",
       "      <td>5.083320</td>\n",
       "      <td>1.361728</td>\n",
       "    </tr>\n",
       "    <tr>\n",
       "      <th>192</th>\n",
       "      <td>http://perezhilton.com/2014-07-01-college-stud...</td>\n",
       "      <td>500000.0</td>\n",
       "      <td>389375.0</td>\n",
       "      <td>4</td>\n",
       "      <td>[http://twitter.com/Minerva_Wild/status/567882...</td>\n",
       "      <td>5.698970</td>\n",
       "      <td>5.590368</td>\n",
       "      <td>0.602060</td>\n",
       "    </tr>\n",
       "  </tbody>\n",
       "</table>\n",
       "</div>"
      ],
      "text/plain": [
       "                                          Petition_Url   Goal_No  Actual_No  \\\n",
       "12   https://you.38degrees.org.uk/petitions/no-priv...  200000.0   138520.0   \n",
       "26   http://www.thepetitionsite.com/takeaction/673/...  150000.0   145323.0   \n",
       "27   http://www.thepetitionsite.com/350/765/758/dem...  100000.0   111574.0   \n",
       "29   http://www.thepetitionsite.com/takeaction/290/...  125000.0   122632.0   \n",
       "54   http://www.thepetitionsite.com/765/646/549/ret...  160000.0   156542.0   \n",
       "62   http://www.thepetitionsite.com/991/631/242/sto...  100000.0   101422.0   \n",
       "64   http://www.thepetitionsite.com/takeaction/875/...  200000.0   196412.0   \n",
       "72   http://www.thepetitionsite.com/takeaction/697/...  150000.0   133806.0   \n",
       "79   https://www.sauvonslaforet.org/petitions/982/l...  100000.0   126734.0   \n",
       "107  https://www.regenwald.org/aktion/981/nicht-in-...  100000.0   102247.0   \n",
       "109  https://www.sauvonslaforet.org/petitions/979/v...  100000.0   102350.0   \n",
       "117     https://twitter.com/safety/unsafe_link_warning  200000.0   179846.0   \n",
       "133  http://www.thepetitionsite.com/259/953/103/sto...  200000.0   198449.0   \n",
       "155      http://action.sumofus.org/a/bc-bottled-water/  240000.0   236275.0   \n",
       "156  http://www.thepetitionsite.com/takeaction/288/...  120000.0   118787.0   \n",
       "158  http://www.thepetitionsite.com/251/460/189/we-...  500000.0   186329.0   \n",
       "159  http://www.thepetitionsite.com/takeaction/658/...  160000.0   163797.0   \n",
       "181  http://www.thepetitionsite.com/takeaction/934/...  120000.0   121149.0   \n",
       "192  http://perezhilton.com/2014-07-01-college-stud...  500000.0   389375.0   \n",
       "\n",
       "     Retweet_No                                        Tweet_links  Log_goal  \\\n",
       "12           16  [http://twitter.com/EastCambsGreens/status/563...  5.301030   \n",
       "26           20  [http://twitter.com/twalt01/status/55858299942...  5.176091   \n",
       "27           20  [http://twitter.com/orcafree01/status/56453868...  5.000000   \n",
       "29           10  [http://twitter.com/KCroyal23/status/559921553...  5.096910   \n",
       "54           30  [http://twitter.com/xx4lennoxxx/status/5515479...  5.204120   \n",
       "62           10  [http://twitter.com/ujajura/status/57057159069...  5.000000   \n",
       "64           11  [http://twitter.com/rustygreen59/status/553104...  5.301030   \n",
       "72           21  [http://twitter.com/B4Sue/status/5594762237019...  5.176091   \n",
       "79           25  [http://twitter.com/Eyroine_/status/5607364031...  5.000000   \n",
       "107          24  [http://twitter.com/Binbags4africa/status/5554...  5.000000   \n",
       "109           8  [http://twitter.com/Eyroine_/status/5564327929...  5.000000   \n",
       "117          16  [http://twitter.com/EcoWarrior1980/status/5533...  5.301030   \n",
       "133          17  [http://twitter.com/TamsynCarstens/status/5708...  5.301030   \n",
       "155           4  [http://twitter.com/thewallofgeckos/status/571...  5.380211   \n",
       "156           4  [http://twitter.com/bioterra/status/5545812013...  5.079181   \n",
       "158          17  [http://twitter.com/stoddardhelen/status/55465...  5.698970   \n",
       "159          19  [http://twitter.com/romybank/status/5581760926...  5.204120   \n",
       "181          23  [http://twitter.com/bonnyblueeyes/status/55728...  5.079181   \n",
       "192           4  [http://twitter.com/Minerva_Wild/status/567882...  5.698970   \n",
       "\n",
       "     Log_actual  Log_retweet  \n",
       "12     5.141512     1.204120  \n",
       "26     5.162334     1.301030  \n",
       "27     5.047563     1.301030  \n",
       "29     5.088604     1.000000  \n",
       "54     5.194631     1.477121  \n",
       "62     5.006132     1.000000  \n",
       "64     5.293168     1.041393  \n",
       "72     5.126476     1.322219  \n",
       "79     5.102893     1.397940  \n",
       "107    5.009651     1.380211  \n",
       "109    5.010088     0.903090  \n",
       "117    5.254901     1.204120  \n",
       "133    5.297649     1.230449  \n",
       "155    5.373418     0.602060  \n",
       "156    5.074769     0.602060  \n",
       "158    5.270280     1.230449  \n",
       "159    5.214306     1.278754  \n",
       "181    5.083320     1.361728  \n",
       "192    5.590368     0.602060  "
      ]
     },
     "execution_count": 127,
     "metadata": {},
     "output_type": "execute_result"
    }
   ],
   "source": [
    "tweet_df.query(' Log_retweet < 1.5 & 5 < Log_actual < 6')"
   ]
  },
  {
   "cell_type": "code",
   "execution_count": 133,
   "metadata": {},
   "outputs": [
    {
     "data": {
      "text/html": [
       "<div>\n",
       "<style>\n",
       "    .dataframe thead tr:only-child th {\n",
       "        text-align: right;\n",
       "    }\n",
       "\n",
       "    .dataframe thead th {\n",
       "        text-align: left;\n",
       "    }\n",
       "\n",
       "    .dataframe tbody tr th {\n",
       "        vertical-align: top;\n",
       "    }\n",
       "</style>\n",
       "<table border=\"1\" class=\"dataframe\">\n",
       "  <thead>\n",
       "    <tr style=\"text-align: right;\">\n",
       "      <th></th>\n",
       "      <th>Goal_No</th>\n",
       "      <th>Actual_No</th>\n",
       "      <th>Retweet_No</th>\n",
       "      <th>Log_goal</th>\n",
       "      <th>Log_actual</th>\n",
       "      <th>Log_retweet</th>\n",
       "    </tr>\n",
       "  </thead>\n",
       "  <tbody>\n",
       "    <tr>\n",
       "      <th>Goal_No</th>\n",
       "      <td>1.000000</td>\n",
       "      <td>0.943068</td>\n",
       "      <td>0.039089</td>\n",
       "      <td>0.531389</td>\n",
       "      <td>0.450091</td>\n",
       "      <td>0.044402</td>\n",
       "    </tr>\n",
       "    <tr>\n",
       "      <th>Actual_No</th>\n",
       "      <td>0.943068</td>\n",
       "      <td>1.000000</td>\n",
       "      <td>0.012362</td>\n",
       "      <td>0.451028</td>\n",
       "      <td>0.451224</td>\n",
       "      <td>0.032375</td>\n",
       "    </tr>\n",
       "    <tr>\n",
       "      <th>Retweet_No</th>\n",
       "      <td>0.039089</td>\n",
       "      <td>0.012362</td>\n",
       "      <td>1.000000</td>\n",
       "      <td>0.098901</td>\n",
       "      <td>0.028708</td>\n",
       "      <td>0.841697</td>\n",
       "    </tr>\n",
       "    <tr>\n",
       "      <th>Log_goal</th>\n",
       "      <td>0.531389</td>\n",
       "      <td>0.451028</td>\n",
       "      <td>0.098901</td>\n",
       "      <td>1.000000</td>\n",
       "      <td>0.876080</td>\n",
       "      <td>0.208012</td>\n",
       "    </tr>\n",
       "    <tr>\n",
       "      <th>Log_actual</th>\n",
       "      <td>0.450091</td>\n",
       "      <td>0.451224</td>\n",
       "      <td>0.028708</td>\n",
       "      <td>0.876080</td>\n",
       "      <td>1.000000</td>\n",
       "      <td>0.173741</td>\n",
       "    </tr>\n",
       "    <tr>\n",
       "      <th>Log_retweet</th>\n",
       "      <td>0.044402</td>\n",
       "      <td>0.032375</td>\n",
       "      <td>0.841697</td>\n",
       "      <td>0.208012</td>\n",
       "      <td>0.173741</td>\n",
       "      <td>1.000000</td>\n",
       "    </tr>\n",
       "  </tbody>\n",
       "</table>\n",
       "</div>"
      ],
      "text/plain": [
       "              Goal_No  Actual_No  Retweet_No  Log_goal  Log_actual  \\\n",
       "Goal_No      1.000000   0.943068    0.039089  0.531389    0.450091   \n",
       "Actual_No    0.943068   1.000000    0.012362  0.451028    0.451224   \n",
       "Retweet_No   0.039089   0.012362    1.000000  0.098901    0.028708   \n",
       "Log_goal     0.531389   0.451028    0.098901  1.000000    0.876080   \n",
       "Log_actual   0.450091   0.451224    0.028708  0.876080    1.000000   \n",
       "Log_retweet  0.044402   0.032375    0.841697  0.208012    0.173741   \n",
       "\n",
       "             Log_retweet  \n",
       "Goal_No         0.044402  \n",
       "Actual_No       0.032375  \n",
       "Retweet_No      0.841697  \n",
       "Log_goal        0.208012  \n",
       "Log_actual      0.173741  \n",
       "Log_retweet     1.000000  "
      ]
     },
     "execution_count": 133,
     "metadata": {},
     "output_type": "execute_result"
    }
   ],
   "source": [
    "tweet_df.loc[tweet_df.Log_retweet<2].corr()"
   ]
  },
  {
   "cell_type": "code",
   "execution_count": 112,
   "metadata": {},
   "outputs": [
    {
     "data": {
      "text/plain": [
       "'https://secure.avaaz.org/es/petition/aprobar_la_ley_santa_cruz_libre_de_fracking/'"
      ]
     },
     "execution_count": 112,
     "metadata": {},
     "output_type": "execute_result"
    }
   ],
   "source": [
    "np.argmin(tweet_df.Actual_No)\n",
    "#65\n",
    "tweet_df.loc[65,'Petition_Url']"
   ]
  },
  {
   "cell_type": "code",
   "execution_count": 83,
   "metadata": {
    "scrolled": true
   },
   "outputs": [
    {
     "data": {
      "text/html": [
       "<div>\n",
       "<style>\n",
       "    .dataframe thead tr:only-child th {\n",
       "        text-align: right;\n",
       "    }\n",
       "\n",
       "    .dataframe thead th {\n",
       "        text-align: left;\n",
       "    }\n",
       "\n",
       "    .dataframe tbody tr th {\n",
       "        vertical-align: top;\n",
       "    }\n",
       "</style>\n",
       "<table border=\"1\" class=\"dataframe\">\n",
       "  <thead>\n",
       "    <tr style=\"text-align: right;\">\n",
       "      <th></th>\n",
       "      <th>Goal_No</th>\n",
       "      <th>Actual_No</th>\n",
       "      <th>Retweet_No</th>\n",
       "    </tr>\n",
       "  </thead>\n",
       "  <tbody>\n",
       "    <tr>\n",
       "      <th>0</th>\n",
       "      <td>190000.0</td>\n",
       "      <td>193215.0</td>\n",
       "      <td>35</td>\n",
       "    </tr>\n",
       "    <tr>\n",
       "      <th>1</th>\n",
       "      <td>300.0</td>\n",
       "      <td>340.0</td>\n",
       "      <td>2568</td>\n",
       "    </tr>\n",
       "    <tr>\n",
       "      <th>2</th>\n",
       "      <td>250000.0</td>\n",
       "      <td>254647.0</td>\n",
       "      <td>69</td>\n",
       "    </tr>\n",
       "    <tr>\n",
       "      <th>3</th>\n",
       "      <td>500.0</td>\n",
       "      <td>428.0</td>\n",
       "      <td>14</td>\n",
       "    </tr>\n",
       "    <tr>\n",
       "      <th>4</th>\n",
       "      <td>3500.0</td>\n",
       "      <td>3951.0</td>\n",
       "      <td>4</td>\n",
       "    </tr>\n",
       "  </tbody>\n",
       "</table>\n",
       "</div>"
      ],
      "text/plain": [
       "    Goal_No  Actual_No  Retweet_No\n",
       "0  190000.0   193215.0          35\n",
       "1     300.0      340.0        2568\n",
       "2  250000.0   254647.0          69\n",
       "3     500.0      428.0          14\n",
       "4    3500.0     3951.0           4"
      ]
     },
     "execution_count": 83,
     "metadata": {},
     "output_type": "execute_result"
    }
   ],
   "source": [
    "tweet_df[['Goal_No','Actual_No','Retweet_No']].head(5)"
   ]
  },
  {
   "cell_type": "code",
   "execution_count": null,
   "metadata": {
    "collapsed": true
   },
   "outputs": [],
   "source": []
  }
 ],
 "metadata": {
  "kernelspec": {
   "display_name": "Python 3",
   "language": "python",
   "name": "python3"
  },
  "language_info": {
   "codemirror_mode": {
    "name": "ipython",
    "version": 3
   },
   "file_extension": ".py",
   "mimetype": "text/x-python",
   "name": "python",
   "nbconvert_exporter": "python",
   "pygments_lexer": "ipython3",
   "version": "3.6.1"
  }
 },
 "nbformat": 4,
 "nbformat_minor": 2
}
