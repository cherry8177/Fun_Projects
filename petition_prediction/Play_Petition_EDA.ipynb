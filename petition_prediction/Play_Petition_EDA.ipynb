{
 "cells": [
  {
   "cell_type": "code",
   "execution_count": 3,
   "metadata": {},
   "outputs": [
    {
     "name": "stdout",
     "output_type": "stream",
     "text": [
      "Populating the interactive namespace from numpy and matplotlib\n"
     ]
    },
    {
     "name": "stderr",
     "output_type": "stream",
     "text": [
      "/Users/feiwang/anaconda3/envs/py36er/lib/python3.6/site-packages/IPython/html.py:14: ShimWarning: The `IPython.html` package has been deprecated since IPython 4.0. You should import from `notebook` instead. `IPython.html.widgets` has moved to `ipywidgets`.\n",
      "  \"`IPython.html.widgets` has moved to `ipywidgets`.\", ShimWarning)\n"
     ]
    }
   ],
   "source": [
    "import pandas as pd\n",
    "import numpy as np\n",
    "import html\n",
    "import re\n",
    "import nltk\n",
    "import time\n",
    "from bs4 import BeautifulSoup\n",
    "import seaborn as sns\n",
    "%pylab inline"
   ]
  },
  {
   "cell_type": "code",
   "execution_count": 4,
   "metadata": {},
   "outputs": [
    {
     "data": {
      "text/html": [
       "<div>\n",
       "<style>\n",
       "    .dataframe thead tr:only-child th {\n",
       "        text-align: right;\n",
       "    }\n",
       "\n",
       "    .dataframe thead th {\n",
       "        text-align: left;\n",
       "    }\n",
       "\n",
       "    .dataframe tbody tr th {\n",
       "        vertical-align: top;\n",
       "    }\n",
       "</style>\n",
       "<table border=\"1\" class=\"dataframe\">\n",
       "  <thead>\n",
       "    <tr style=\"text-align: right;\">\n",
       "      <th></th>\n",
       "      <th>0</th>\n",
       "      <th>1</th>\n",
       "      <th>2</th>\n",
       "    </tr>\n",
       "  </thead>\n",
       "  <tbody>\n",
       "    <tr>\n",
       "      <th>https://www.change.org/p/california-governor-arrest-kathy-griffin-for-domestic-terrorism</th>\n",
       "      <td>Arrest Kathy Griffin for domestic terrorism</td>\n",
       "      <td>[ What Kathy Griffin has done is just absolute...</td>\n",
       "      <td>1,084</td>\n",
       "    </tr>\n",
       "    <tr>\n",
       "      <th>https://www.change.org/p/brad-miyake-save-300-trees-in-east-bellevue</th>\n",
       "      <td>Save 300 trees in East Bellevue</td>\n",
       "      <td>[ Dear City Manager Brad Miyake, ,  We the und...</td>\n",
       "      <td>811</td>\n",
       "    </tr>\n",
       "    <tr>\n",
       "      <th>https://www.change.org/p/jansante-zeb-bphawks-org-move-bethel-park-high-school-graduation-back-into-the-stadium</th>\n",
       "      <td>Move Bethel Park High School Graduation back ...</td>\n",
       "      <td>[ Topic - Bethel Park High School Graduation. ...</td>\n",
       "      <td>450</td>\n",
       "    </tr>\n",
       "    <tr>\n",
       "      <th>https://www.change.org/p/community-conservation-org-save-the-ocean-save-ourselves</th>\n",
       "      <td>Save The Ocean; Save Ourselves</td>\n",
       "      <td>[ Dear world,Â  ,  Because the oceans are the ...</td>\n",
       "      <td>21</td>\n",
       "    </tr>\n",
       "    <tr>\n",
       "      <th>https://www.change.org/p/the-melee-community-ban-pokemon-stadium-in-super-smash-bros-melee-for-the-nintendo-gamecube</th>\n",
       "      <td>Ban Pokemon Stadium in super smash bros melee...</td>\n",
       "      <td>[ Pokemon Stadium is just an unbalanced jank s...</td>\n",
       "      <td>11</td>\n",
       "    </tr>\n",
       "  </tbody>\n",
       "</table>\n",
       "</div>"
      ],
      "text/plain": [
       "                                                                                                    0  \\\n",
       "https://www.change.org/p/california-governor-ar...       Arrest Kathy Griffin for domestic terrorism    \n",
       "https://www.change.org/p/brad-miyake-save-300-t...                   Save 300 trees in East Bellevue    \n",
       "https://www.change.org/p/jansante-zeb-bphawks-o...   Move Bethel Park High School Graduation back ...   \n",
       "https://www.change.org/p/community-conservation...                    Save The Ocean; Save Ourselves    \n",
       "https://www.change.org/p/the-melee-community-ba...   Ban Pokemon Stadium in super smash bros melee...   \n",
       "\n",
       "                                                                                                    1  \\\n",
       "https://www.change.org/p/california-governor-ar...  [ What Kathy Griffin has done is just absolute...   \n",
       "https://www.change.org/p/brad-miyake-save-300-t...  [ Dear City Manager Brad Miyake, ,  We the und...   \n",
       "https://www.change.org/p/jansante-zeb-bphawks-o...  [ Topic - Bethel Park High School Graduation. ...   \n",
       "https://www.change.org/p/community-conservation...  [ Dear world,Â  ,  Because the oceans are the ...   \n",
       "https://www.change.org/p/the-melee-community-ba...  [ Pokemon Stadium is just an unbalanced jank s...   \n",
       "\n",
       "                                                            2  \n",
       "https://www.change.org/p/california-governor-ar...     1,084   \n",
       "https://www.change.org/p/brad-miyake-save-300-t...       811   \n",
       "https://www.change.org/p/jansante-zeb-bphawks-o...       450   \n",
       "https://www.change.org/p/community-conservation...        21   \n",
       "https://www.change.org/p/the-melee-community-ba...        11   "
      ]
     },
     "execution_count": 4,
     "metadata": {},
     "output_type": "execute_result"
    }
   ],
   "source": [
    "raw_dict=pd.read_pickle('recent_petition.pkl')\n",
    "df=pd.DataFrame.from_dict(raw_dict,orient='index')\n",
    "df.head(5)"
   ]
  },
  {
   "cell_type": "code",
   "execution_count": 5,
   "metadata": {},
   "outputs": [
    {
     "name": "stdout",
     "output_type": "stream",
     "text": [
      "<class 'pandas.core.frame.DataFrame'>\n",
      "Index: 1830 entries, https://www.change.org/p/doro-taylor-consider-removal-of-the-led-signs-at-700-glenwood-avenue to https://www.change.org/p/emory-university-stop-supporting-animal-cruelty\n",
      "Data columns (total 3 columns):\n",
      "0    1830 non-null object\n",
      "1    1830 non-null object\n",
      "2    1830 non-null object\n",
      "dtypes: object(3)\n",
      "memory usage: 57.2+ KB\n"
     ]
    }
   ],
   "source": [
    "raw_dict1=pd.read_pickle('clean_vic_petition.pkl')\n",
    "df1=pd.DataFrame.from_dict(raw_dict1,orient='index')\n",
    "df1.head(5)\n",
    "df1.info()"
   ]
  },
  {
   "cell_type": "code",
   "execution_count": 6,
   "metadata": {},
   "outputs": [
    {
     "name": "stdout",
     "output_type": "stream",
     "text": [
      "                                        Petition_Url  \\\n",
      "0  https://www.change.org/p/california-governor-a...   \n",
      "1  https://www.change.org/p/brad-miyake-save-300-...   \n",
      "2  https://www.change.org/p/jansante-zeb-bphawks-...   \n",
      "3  https://www.change.org/p/community-conservatio...   \n",
      "4  https://www.change.org/p/the-melee-community-b...   \n",
      "\n",
      "                                               Title  \\\n",
      "0       Arrest Kathy Griffin for domestic terrorism    \n",
      "1                   Save 300 trees in East Bellevue    \n",
      "2   Move Bethel Park High School Graduation back ...   \n",
      "3                    Save The Ocean; Save Ourselves    \n",
      "4   Ban Pokemon Stadium in super smash bros melee...   \n",
      "\n",
      "                                                Text No_Supporters  \n",
      "0  [ What Kathy Griffin has done is just absolute...        1,084   \n",
      "1  [ Dear City Manager Brad Miyake, ,  We the und...          811   \n",
      "2  [ Topic - Bethel Park High School Graduation. ...          450   \n",
      "3  [ Dear world,Â  ,  Because the oceans are the ...           21   \n",
      "4  [ Pokemon Stadium is just an unbalanced jank s...           11   \n",
      "<class 'pandas.core.frame.DataFrame'>\n",
      "RangeIndex: 249 entries, 0 to 248\n",
      "Data columns (total 4 columns):\n",
      "Petition_Url     249 non-null object\n",
      "Title            249 non-null object\n",
      "Text             249 non-null object\n",
      "No_Supporters    249 non-null object\n",
      "dtypes: object(4)\n",
      "memory usage: 7.9+ KB\n"
     ]
    }
   ],
   "source": [
    "df.index.name='Petition_Url'\n",
    "df.reset_index(inplace=True)\n",
    "df.columns=['Petition_Url',\"Title\",\"Text\",\"No_Supporters\"]\n",
    "print(df.head(5))\n",
    "df.info()"
   ]
  },
  {
   "cell_type": "code",
   "execution_count": 7,
   "metadata": {
    "collapsed": true
   },
   "outputs": [],
   "source": [
    "#df1.index.name='Petition_Url'\n",
    "df1.reset_index(inplace=True)\n",
    "\n"
   ]
  },
  {
   "cell_type": "code",
   "execution_count": 8,
   "metadata": {
    "collapsed": true
   },
   "outputs": [],
   "source": [
    "df1.columns=['Petition_Url',\"Title\",\"Text\",\"No_Supporters\"]"
   ]
  },
  {
   "cell_type": "code",
   "execution_count": 144,
   "metadata": {},
   "outputs": [
    {
     "name": "stdout",
     "output_type": "stream",
     "text": [
      "                                        Petition_Url  \\\n",
      "0  https://www.change.org/p/doro-taylor-consider-...   \n",
      "1  https://www.change.org/p/save-virgil-wesley-s-...   \n",
      "2  https://www.change.org/p/sunlake-high-school-a...   \n",
      "3  https://www.change.org/p/elizabeth-littlefield...   \n",
      "4  https://www.change.org/p/janice-brewer-stop-sb...   \n",
      "\n",
      "                                               Title  \\\n",
      "0   Consider removal of the LED signs at 700 Glen...   \n",
      "1   Throw out the suit filed by Brookridge Countr...   \n",
      "2                             Add a chorus program!    \n",
      "3   U.S. Government: Investigate U.S. Funding of ...   \n",
      "4                                      Stop SB 1062    \n",
      "\n",
      "                                                Text No_Supporters  \n",
      "0  [[Dear Ms. Taylor,, Thank you for taking the t...           79   \n",
      "1  [[There is a law designed to help this gentlem...           53   \n",
      "2  [[Our school has so much potential and filled ...           35   \n",
      "3  [[On January 22, 2014, hundreds of Liberians f...          329   \n",
      "4  [[This bill, the same one that was voted down ...          124   \n",
      "<class 'pandas.core.frame.DataFrame'>\n",
      "RangeIndex: 1830 entries, 0 to 1829\n",
      "Data columns (total 4 columns):\n",
      "Petition_Url     1830 non-null object\n",
      "Title            1830 non-null object\n",
      "Text             1830 non-null object\n",
      "No_Supporters    1830 non-null object\n",
      "dtypes: object(4)\n",
      "memory usage: 57.3+ KB\n"
     ]
    }
   ],
   "source": [
    "print(df1.head(5))\n",
    "df1.info()"
   ]
  },
  {
   "cell_type": "code",
   "execution_count": 9,
   "metadata": {
    "collapsed": true
   },
   "outputs": [],
   "source": [
    "def str2float(s):\n",
    "    s = str(s).strip().replace(',','')\n",
    "    #s = re.sub('[^0-9]+', '0', s)\n",
    "    return float(s)\n",
    "df.No_Supporters=df.No_Supporters.apply(str2float)\n",
    "df1.No_Supporters=df1.No_Supporters.apply(str2float)"
   ]
  },
  {
   "cell_type": "code",
   "execution_count": 58,
   "metadata": {},
   "outputs": [
    {
     "name": "stdout",
     "output_type": "stream",
     "text": [
      "<class 'pandas.core.frame.DataFrame'>\n",
      "Int64Index: 249 entries, 0 to 248\n",
      "Data columns (total 4 columns):\n",
      "Petition_Url     249 non-null object\n",
      "Title            249 non-null object\n",
      "Text             249 non-null object\n",
      "No_Supporters    249 non-null float64\n",
      "dtypes: float64(1), object(3)\n",
      "memory usage: 9.7+ KB\n"
     ]
    }
   ],
   "source": [
    "#df1.dropna(axis=0, how='any').info()"
   ]
  },
  {
   "cell_type": "code",
   "execution_count": 146,
   "metadata": {},
   "outputs": [
    {
     "data": {
      "text/plain": [
       "<matplotlib.axes._subplots.AxesSubplot at 0x11c106668>"
      ]
     },
     "execution_count": 146,
     "metadata": {},
     "output_type": "execute_result"
    },
    {
     "data": {
      "image/png": "[encoded data removed]",
      "text/plain": [
       "<matplotlib.figure.Figure at 0x11c106d68>"
      ]
     },
     "metadata": {},
     "output_type": "display_data"
    }
   ],
   "source": [
    "# distribution of the votes\n",
    "sns.distplot(df.No_Supporters,kde=False)\n",
    "#sns.distplot(df1.No_Supporters,kde=False)"
   ]
  },
  {
   "cell_type": "code",
   "execution_count": 147,
   "metadata": {},
   "outputs": [
    {
     "data": {
      "text/plain": [
       "<matplotlib.axes._subplots.AxesSubplot at 0x11d20fef0>"
      ]
     },
     "execution_count": 147,
     "metadata": {},
     "output_type": "execute_result"
    },
    {
     "data": {
      "image/png": "[encoded data removed]",
      "text/plain": [
       "<matplotlib.figure.Figure at 0x11d1c9828>"
      ]
     },
     "metadata": {},
     "output_type": "display_data"
    }
   ],
   "source": [
    "sns.distplot(df1.No_Supporters ,kde=False)"
   ]
  },
  {
   "cell_type": "code",
   "execution_count": 148,
   "metadata": {
    "collapsed": true
   },
   "outputs": [],
   "source": [
    "df['Status']=['onging' for _ in range(len(df.No_Supporters))]"
   ]
  },
  {
   "cell_type": "code",
   "execution_count": 149,
   "metadata": {
    "collapsed": true
   },
   "outputs": [],
   "source": [
    "df1['Status']=['finished' for _ in range(len(df1.No_Supporters))]"
   ]
  },
  {
   "cell_type": "code",
   "execution_count": 105,
   "metadata": {
    "collapsed": true
   },
   "outputs": [],
   "source": [
    "#df1['Text']=df1.Text.apply(lambda x: ' '.join(x))"
   ]
  },
  {
   "cell_type": "code",
   "execution_count": 10,
   "metadata": {},
   "outputs": [
    {
     "data": {
      "text/html": [
       "<div>\n",
       "<style>\n",
       "    .dataframe thead tr:only-child th {\n",
       "        text-align: right;\n",
       "    }\n",
       "\n",
       "    .dataframe thead th {\n",
       "        text-align: left;\n",
       "    }\n",
       "\n",
       "    .dataframe tbody tr th {\n",
       "        vertical-align: top;\n",
       "    }\n",
       "</style>\n",
       "<table border=\"1\" class=\"dataframe\">\n",
       "  <thead>\n",
       "    <tr style=\"text-align: right;\">\n",
       "      <th></th>\n",
       "      <th>No_Supporters</th>\n",
       "    </tr>\n",
       "  </thead>\n",
       "  <tbody>\n",
       "    <tr>\n",
       "      <th>count</th>\n",
       "      <td>2079.000000</td>\n",
       "    </tr>\n",
       "    <tr>\n",
       "      <th>mean</th>\n",
       "      <td>11771.988937</td>\n",
       "    </tr>\n",
       "    <tr>\n",
       "      <th>std</th>\n",
       "      <td>48309.138233</td>\n",
       "    </tr>\n",
       "    <tr>\n",
       "      <th>min</th>\n",
       "      <td>1.000000</td>\n",
       "    </tr>\n",
       "    <tr>\n",
       "      <th>25%</th>\n",
       "      <td>93.000000</td>\n",
       "    </tr>\n",
       "    <tr>\n",
       "      <th>50%</th>\n",
       "      <td>371.000000</td>\n",
       "    </tr>\n",
       "    <tr>\n",
       "      <th>75%</th>\n",
       "      <td>1588.500000</td>\n",
       "    </tr>\n",
       "    <tr>\n",
       "      <th>max</th>\n",
       "      <td>775053.000000</td>\n",
       "    </tr>\n",
       "  </tbody>\n",
       "</table>\n",
       "</div>"
      ],
      "text/plain": [
       "       No_Supporters\n",
       "count    2079.000000\n",
       "mean    11771.988937\n",
       "std     48309.138233\n",
       "min         1.000000\n",
       "25%        93.000000\n",
       "50%       371.000000\n",
       "75%      1588.500000\n",
       "max    775053.000000"
      ]
     },
     "execution_count": 10,
     "metadata": {},
     "output_type": "execute_result"
    }
   ],
   "source": [
    "combined_df=df.append(df1)\n",
    "combined_df.describe()"
   ]
  },
  {
   "cell_type": "code",
   "execution_count": 11,
   "metadata": {
    "collapsed": true
   },
   "outputs": [],
   "source": [
    "combined_df['N>1000']=combined_df.No_Supporters>1000\n",
    "combined_df['N>10000']=combined_df.No_Supporters>10000\n",
    "combined_df['N>50000']=combined_df.No_Supporters>50000\n",
    "combined_df['N>100000']=combined_df.No_Supporters>100000"
   ]
  },
  {
   "cell_type": "code",
   "execution_count": null,
   "metadata": {
    "collapsed": true
   },
   "outputs": [],
   "source": []
  },
  {
   "cell_type": "code",
   "execution_count": 331,
   "metadata": {},
   "outputs": [
    {
     "data": {
      "text/plain": [
       "<matplotlib.axes._subplots.AxesSubplot at 0x123d631d0>"
      ]
     },
     "execution_count": 331,
     "metadata": {},
     "output_type": "execute_result"
    },
    {
     "data": {
      "image/png": "[encoded data removed]",
      "text/plain": [
       "<matplotlib.figure.Figure at 0x123c5df28>"
      ]
     },
     "metadata": {},
     "output_type": "display_data"
    }
   ],
   "source": [
    "sns.distplot(np.log10(combined_df.No_Supporters))"
   ]
  },
  {
   "cell_type": "code",
   "execution_count": 357,
   "metadata": {},
   "outputs": [
    {
     "data": {
      "text/plain": [
       "<matplotlib.axes._subplots.AxesSubplot at 0x125ca39e8>"
      ]
     },
     "execution_count": 357,
     "metadata": {},
     "output_type": "execute_result"
    },
    {
     "data": {
      "image/png": "[encoded data removed]",
      "text/plain": [
       "<matplotlib.figure.Figure at 0x125c9ee48>"
      ]
     },
     "metadata": {},
     "output_type": "display_data"
    }
   ],
   "source": [
    "sns.distplot(np.log10(df1.No_Supporters))"
   ]
  },
  {
   "cell_type": "code",
   "execution_count": 358,
   "metadata": {},
   "outputs": [
    {
     "data": {
      "text/plain": [
       "<matplotlib.axes._subplots.AxesSubplot at 0x125d797b8>"
      ]
     },
     "execution_count": 358,
     "metadata": {},
     "output_type": "execute_result"
    },
    {
     "data": {
      "image/png": "[encoded data removed]",
      "text/plain": [
       "<matplotlib.figure.Figure at 0x125ca3c50>"
      ]
     },
     "metadata": {},
     "output_type": "display_data"
    }
   ],
   "source": [
    "sns.distplot(np.log10(df.No_Supporters))"
   ]
  },
  {
   "cell_type": "code",
   "execution_count": 245,
   "metadata": {},
   "outputs": [
    {
     "data": {
      "text/plain": [
       "<matplotlib.axes._subplots.AxesSubplot at 0x1234a8550>"
      ]
     },
     "execution_count": 245,
     "metadata": {},
     "output_type": "execute_result"
    },
    {
     "data": {
      "image/png": "[encoded data removed]",
      "text/plain": [
       "<matplotlib.figure.Figure at 0x11ceae320>"
      ]
     },
     "metadata": {},
     "output_type": "display_data"
    }
   ],
   "source": [
    "sns.distplot(combined_df.No_Supporters ,kde=False)"
   ]
  },
  {
   "cell_type": "code",
   "execution_count": 12,
   "metadata": {
    "collapsed": true
   },
   "outputs": [],
   "source": [
    "combined_df=combined_df.reset_index()"
   ]
  },
  {
   "cell_type": "code",
   "execution_count": 13,
   "metadata": {
    "collapsed": true
   },
   "outputs": [],
   "source": [
    "combined_df['Text']=combined_df.Text.apply(lambda x: ' '.join(x))"
   ]
  },
  {
   "cell_type": "code",
   "execution_count": 14,
   "metadata": {},
   "outputs": [
    {
     "name": "stderr",
     "output_type": "stream",
     "text": [
      "/Users/feiwang/anaconda3/envs/py36er/lib/python3.6/site-packages/bs4/__init__.py:181: UserWarning: No parser was explicitly specified, so I'm using the best available HTML parser for this system (\"html5lib\"). This usually isn't a problem, but if you run this code on another system, or in a different virtual environment, it may use a different parser and behave differently.\n",
      "\n",
      "The code that caused this warning is on line 193 of the file /Users/feiwang/anaconda3/envs/py36er/lib/python3.6/runpy.py. To get rid of this warning, change code that looks like this:\n",
      "\n",
      " BeautifulSoup(YOUR_MARKUP})\n",
      "\n",
      "to this:\n",
      "\n",
      " BeautifulSoup(YOUR_MARKUP, \"html5lib\")\n",
      "\n",
      "  markup_type=markup_type))\n"
     ]
    }
   ],
   "source": [
    "letters_only=(combined_df['Text'].apply(lambda x:re.sub(u\"\\xa0\",u\" \",x))\n",
    ".apply(lambda x: BeautifulSoup(x).get_text())\n",
    ".apply(lambda x:re.sub(\"[^a-zA-Z]\",\" \",x))\n",
    "             )"
   ]
  },
  {
   "cell_type": "code",
   "execution_count": 15,
   "metadata": {
    "collapsed": true
   },
   "outputs": [],
   "source": [
    "lower_case=letters_only.apply(lambda x: x.lower().split())\n"
   ]
  },
  {
   "cell_type": "code",
   "execution_count": 16,
   "metadata": {},
   "outputs": [
    {
     "name": "stdout",
     "output_type": "stream",
     "text": [
      "['i', 'me', 'my', 'myself', 'we', 'our', 'ours', 'ourselves', 'you', 'your', 'yours', 'yourself', 'yourselves', 'he', 'him', 'his', 'himself', 'she', 'her', 'hers', 'herself', 'it', 'its', 'itself', 'they', 'them', 'their', 'theirs', 'themselves', 'what', 'which', 'who', 'whom', 'this', 'that', 'these', 'those', 'am', 'is', 'are', 'was', 'were', 'be', 'been', 'being', 'have', 'has', 'had', 'having', 'do', 'does', 'did', 'doing', 'a', 'an', 'the', 'and', 'but', 'if', 'or', 'because', 'as', 'until', 'while', 'of', 'at', 'by', 'for', 'with', 'about', 'against', 'between', 'into', 'through', 'during', 'before', 'after', 'above', 'below', 'to', 'from', 'up', 'down', 'in', 'out', 'on', 'off', 'over', 'under', 'again', 'further', 'then', 'once', 'here', 'there', 'when', 'where', 'why', 'how', 'all', 'any', 'both', 'each', 'few', 'more', 'most', 'other', 'some', 'such', 'no', 'nor', 'not', 'only', 'own', 'same', 'so', 'than', 'too', 'very', 's', 't', 'can', 'will', 'just', 'don', 'should', 'now', 'd', 'll', 'm', 'o', 're', 've', 'y', 'ain', 'aren', 'couldn', 'didn', 'doesn', 'hadn', 'hasn', 'haven', 'isn', 'ma', 'mightn', 'mustn', 'needn', 'shan', 'shouldn', 'wasn', 'weren', 'won', 'wouldn']\n"
     ]
    }
   ],
   "source": [
    "from nltk.corpus import stopwords # Import the stop word list\n",
    "print (stopwords.words(\"english\") )"
   ]
  },
  {
   "cell_type": "code",
   "execution_count": 17,
   "metadata": {
    "collapsed": true
   },
   "outputs": [],
   "source": [
    "new_stopwords=set(stopwords.words(\"english\"))\n",
    "new_stopwords.add('xa')\n",
    "##be careful set or list"
   ]
  },
  {
   "cell_type": "code",
   "execution_count": 52,
   "metadata": {
    "collapsed": true
   },
   "outputs": [],
   "source": [
    "?stopwords"
   ]
  },
  {
   "cell_type": "code",
   "execution_count": 18,
   "metadata": {
    "collapsed": true
   },
   "outputs": [],
   "source": [
    "def remove_sw(words, sw):\n",
    "    word = [w for w in words if not w in sw]\n",
    "    return word\n"
   ]
  },
  {
   "cell_type": "code",
   "execution_count": 19,
   "metadata": {
    "collapsed": true
   },
   "outputs": [],
   "source": [
    "clean_texts = []\n",
    "num_texts = combined_df[\"Text\"].size\n",
    "for i in range( 0, num_texts ):\n",
    "    # Call our function for each one, and add the result to the list of\n",
    "    # clean reviews\n",
    "    clean_texts.append( \" \".join(remove_sw(lower_case[i],new_stopwords)))"
   ]
  },
  {
   "cell_type": "code",
   "execution_count": 20,
   "metadata": {},
   "outputs": [
    {
     "data": {
      "text/plain": [
       "2079"
      ]
     },
     "execution_count": 20,
     "metadata": {},
     "output_type": "execute_result"
    }
   ],
   "source": [
    "len(clean_texts)"
   ]
  },
  {
   "cell_type": "code",
   "execution_count": 189,
   "metadata": {
    "collapsed": true
   },
   "outputs": [],
   "source": [
    "def review_to_words( raw_review ):\n",
    "\n",
    "    # Function to convert a raw review to a string of words\n",
    "    # The input is a single string (a raw movie review), and \n",
    "    # the output is a single string (a preprocessed movie review)\n",
    "    #\n",
    "    # 1. Remove HTML\n",
    "    review_text1 = re.sub(u\"\\xa0\",u\" \",raw_review)\n",
    "    review_text2 = BeautifulSoup(review_text1).get_text() \n",
    "    #\n",
    "    # 2. Remove non-letters        \n",
    "    letters_only = re.sub(\"[^a-zA-Z]\", \" \", review_text2) \n",
    "    #\n",
    "    # 3. Convert to lower case, split into individual words\n",
    "    words = letters_only.lower().split()                             \n",
    "    #\n",
    "    # 4. In Python, searching a set is much faster than searching\n",
    "    #   a list, so convert the stop words to a set\n",
    "    stops = set(stopwords.words(\"english\")).add('xa') \n",
    "\n",
    "    # \n",
    "    # 5. Remove stop words\n",
    "    meaningful_words = [w for w in words if not w in stops]   \n",
    "    #\n",
    "    # 6. Join the words back into one string separated by space, \n",
    "    # and return the result.\n",
    "    return( \" \".join( meaningful_words ))   "
   ]
  },
  {
   "cell_type": "code",
   "execution_count": 211,
   "metadata": {},
   "outputs": [
    {
     "data": {
      "text/plain": [
       "Index(['index', 'Petition_Url', 'Title', 'Text', 'No_Supporters', 'Status'], dtype='object')"
      ]
     },
     "execution_count": 211,
     "metadata": {},
     "output_type": "execute_result"
    }
   ],
   "source": [
    "combined_df.columns"
   ]
  },
  {
   "cell_type": "code",
   "execution_count": 229,
   "metadata": {},
   "outputs": [
    {
     "name": "stderr",
     "output_type": "stream",
     "text": [
      "/Users/feiwang/anaconda3/envs/py36er/lib/python3.6/site-packages/ipykernel_launcher.py:2: SettingWithCopyWarning: \n",
      "A value is trying to be set on a copy of a slice from a DataFrame.\n",
      "Try using .loc[row_indexer,col_indexer] = value instead\n",
      "\n",
      "See the caveats in the documentation: http://pandas.pydata.org/pandas-docs/stable/indexing.html#indexing-view-versus-copy\n",
      "  \n"
     ]
    }
   ],
   "source": [
    "new_df=combined_df[['index','Title','No_Supporters']]\n",
    "new_df['clean_T']=clean_texts"
   ]
  },
  {
   "cell_type": "code",
   "execution_count": 235,
   "metadata": {},
   "outputs": [
    {
     "data": {
      "text/html": [
       "<div>\n",
       "<style>\n",
       "    .dataframe thead tr:only-child th {\n",
       "        text-align: right;\n",
       "    }\n",
       "\n",
       "    .dataframe thead th {\n",
       "        text-align: left;\n",
       "    }\n",
       "\n",
       "    .dataframe tbody tr th {\n",
       "        vertical-align: top;\n",
       "    }\n",
       "</style>\n",
       "<table border=\"1\" class=\"dataframe\">\n",
       "  <thead>\n",
       "    <tr style=\"text-align: right;\">\n",
       "      <th></th>\n",
       "      <th>index</th>\n",
       "      <th>Title</th>\n",
       "      <th>No_Supporters</th>\n",
       "      <th>clean_T</th>\n",
       "    </tr>\n",
       "  </thead>\n",
       "  <tbody>\n",
       "    <tr>\n",
       "      <th>0</th>\n",
       "      <td>0</td>\n",
       "      <td>Arrest Kathy Griffin for domestic terrorism</td>\n",
       "      <td>1084.0</td>\n",
       "      <td>kathy griffin done absolutely appalling arrest...</td>\n",
       "    </tr>\n",
       "    <tr>\n",
       "      <th>1</th>\n",
       "      <td>1</td>\n",
       "      <td>Save 300 trees in East Bellevue</td>\n",
       "      <td>811.0</td>\n",
       "      <td>dear city manager brad miyake undersigned oppo...</td>\n",
       "    </tr>\n",
       "    <tr>\n",
       "      <th>2</th>\n",
       "      <td>2</td>\n",
       "      <td>Move Bethel Park High School Graduation back ...</td>\n",
       "      <td>450.0</td>\n",
       "      <td>topic bethel park high school graduation many ...</td>\n",
       "    </tr>\n",
       "    <tr>\n",
       "      <th>3</th>\n",
       "      <td>3</td>\n",
       "      <td>Save The Ocean; Save Ourselves</td>\n",
       "      <td>21.0</td>\n",
       "      <td>dear world oceans largest ecosystems earth ear...</td>\n",
       "    </tr>\n",
       "    <tr>\n",
       "      <th>4</th>\n",
       "      <td>4</td>\n",
       "      <td>Ban Pokemon Stadium in super smash bros melee...</td>\n",
       "      <td>11.0</td>\n",
       "      <td>pokemon stadium unbalanced jank stage stage co...</td>\n",
       "    </tr>\n",
       "  </tbody>\n",
       "</table>\n",
       "</div>"
      ],
      "text/plain": [
       "   index                                              Title  No_Supporters  \\\n",
       "0      0       Arrest Kathy Griffin for domestic terrorism          1084.0   \n",
       "1      1                   Save 300 trees in East Bellevue           811.0   \n",
       "2      2   Move Bethel Park High School Graduation back ...          450.0   \n",
       "3      3                    Save The Ocean; Save Ourselves            21.0   \n",
       "4      4   Ban Pokemon Stadium in super smash bros melee...           11.0   \n",
       "\n",
       "                                             clean_T  \n",
       "0  kathy griffin done absolutely appalling arrest...  \n",
       "1  dear city manager brad miyake undersigned oppo...  \n",
       "2  topic bethel park high school graduation many ...  \n",
       "3  dear world oceans largest ecosystems earth ear...  \n",
       "4  pokemon stadium unbalanced jank stage stage co...  "
      ]
     },
     "execution_count": 235,
     "metadata": {},
     "output_type": "execute_result"
    }
   ],
   "source": [
    "new_df.head()"
   ]
  },
  {
   "cell_type": "code",
   "execution_count": null,
   "metadata": {
    "collapsed": true
   },
   "outputs": [],
   "source": []
  },
  {
   "cell_type": "code",
   "execution_count": 21,
   "metadata": {
    "collapsed": true
   },
   "outputs": [],
   "source": [
    "from sklearn.feature_extraction.text import CountVectorizer\n",
    "vectorizer = CountVectorizer(analyzer = \"word\",   \n",
    "                             tokenizer = None,\n",
    "                             ngram_range=(1, 2),\n",
    "                             preprocessor = None, \n",
    "                             stop_words = None,   \n",
    "                             max_features = 2000) \n"
   ]
  },
  {
   "cell_type": "code",
   "execution_count": 22,
   "metadata": {},
   "outputs": [
    {
     "name": "stdout",
     "output_type": "stream",
     "text": [
      "(2079, 2000)\n"
     ]
    }
   ],
   "source": [
    "train_data_features = vectorizer.fit_transform(clean_texts)\n",
    "train_data_features = train_data_features.toarray()\n",
    "print (train_data_features.shape)"
   ]
  },
  {
   "cell_type": "code",
   "execution_count": 23,
   "metadata": {},
   "outputs": [
    {
     "name": "stdout",
     "output_type": "stream",
     "text": [
      "['ability', 'able', 'absolutely', 'abuse', 'abused', 'academic', 'academy', 'accept', 'acceptable', 'access', 'accident', 'accidents', 'according', 'account', 'accountable', 'across', 'act', 'action', 'actions', 'active', 'activities', 'activity', 'acts', 'actual', 'actually', 'add', 'added', 'adding', 'addition', 'additional', 'additionally', 'address', 'adjacent', 'administration', 'administrators', 'adopted', 'adult', 'adults', 'advocate', 'affect', 'affected', 'afford', 'affordable', 'african', 'african american', 'age', 'agency', 'ago', 'agree', 'agreed', 'agreement', 'aid', 'aids', 'air', 'airport', 'alex', 'alive', 'allow', 'allowed', 'allowing', 'allows', 'almost', 'alone', 'along', 'already', 'also', 'alternative', 'although', 'alumni', 'always', 'amazing', 'amendment', 'america', 'american', 'americans', 'among', 'amount', 'angeles', 'animal', 'animal control', 'animal cruelty', 'animal welfare', 'animals', 'animals environment', 'announced', 'annual', 'another', 'answer', 'anti', 'anyone', 'anything', 'app', 'appeal', 'application', 'apply', 'appreciate', 'appropriate', 'approval', 'approve', 'approved', 'approximately', 'april', 'aramark', 'archaic', 'archaic practice', 'area', 'areas', 'arizona', 'army', 'around', 'around world', 'arrest', 'arrested', 'arrived', 'art', 'article', 'articles', 'artists', 'arts', 'asian', 'ask', 'asked', 'asking', 'assault', 'assistance', 'assistant', 'associated', 'association', 'athletes', 'attack', 'attempt', 'attend', 'attending', 'attention', 'attorney', 'august', 'authority', 'autism', 'available', 'avenue', 'average', 'avoid', 'aware', 'awareness', 'away', 'baby', 'back', 'background', 'bad', 'bags', 'ban', 'band', 'bank', 'banned', 'bar', 'based', 'basic', 'basis', 'basketball', 'battery', 'battery cage', 'bay', 'beach', 'beautiful', 'became', 'become', 'becoming', 'began', 'begin', 'beginning', 'behalf', 'behavior', 'behaviors', 'behaviors archaic', 'behind', 'beliefs', 'believe', 'believes', 'benefit', 'benefits', 'best', 'better', 'beyond', 'big', 'bike', 'bill', 'billion', 'bills', 'birth', 'black', 'block', 'blog', 'blood', 'blue', 'board', 'board directors', 'bob', 'bodies', 'body', 'bond', 'book', 'books', 'born', 'boston', 'box', 'boy', 'boys', 'brain', 'brand', 'break', 'breast', 'breed', 'bridge', 'bring', 'broken', 'brother', 'brought', 'brown', 'budget', 'build', 'building', 'buildings', 'built', 'bull', 'bullying', 'burger', 'burger king', 'bus', 'business', 'businesses', 'buy', 'ca', 'cage', 'cage eggs', 'cage farms', 'cages', 'cages even', 'california', 'call', 'called', 'calling', 'calls', 'came', 'campaign', 'campus', 'cancer', 'cannot', 'car', 'card', 'care', 'caring', 'carolina', 'carry', 'cars', 'case', 'cases', 'cat', 'cats', 'caught', 'cause', 'caused', 'causes', 'causing', 'cell', 'center', 'centers', 'central', 'ceo', 'certain', 'chance', 'change', 'change org', 'changed', 'changes', 'changing', 'channel', 'character', 'charge', 'charged', 'charges', 'charter', 'check', 'chemicals', 'chicago', 'chief', 'child', 'children', 'china', 'choice', 'choices', 'choose', 'chosen', 'chris', 'christian', 'church', 'ci', 'cities', 'citizen', 'citizens', 'city', 'city council', 'civil', 'claim', 'claims', 'class', 'classes', 'classroom', 'clean', 'clear', 'clearly', 'climate', 'climate change', 'close', 'closed', 'club', 'co', 'coach', 'code', 'college', 'colleges', 'color', 'colorado', 'com', 'come', 'comes', 'comes animals', 'coming', 'comments', 'commercial', 'commission', 'commissioners', 'commit', 'commitment', 'commitments', 'commitments phase', 'committed', 'committee', 'common', 'communities', 'community', 'companies', 'companies like', 'company', 'company like', 'competition', 'complaint', 'complete', 'completed', 'completely', 'completely phase', 'comprehensive', 'computer', 'concern', 'concerned', 'concerns', 'condition', 'conditions', 'conduct', 'conference', 'congress', 'consequences', 'consider', 'consideration', 'considered', 'considering', 'constitution', 'construction', 'consumers', 'contact', 'contacted', 'content', 'continue', 'continued', 'continues', 'contract', 'contracting', 'contracting hospitality', 'contracts', 'control', 'convicted', 'conviction', 'core', 'corner', 'corporate', 'cost', 'costs', 'could', 'council', 'counter', 'countless', 'countries', 'country', 'county', 'couple', 'course', 'court', 'courts', 'cover', 'coverage', 'covered', 'create', 'created', 'creates', 'creating', 'credit', 'creek', 'crime', 'crimes', 'criminal', 'critical', 'cross', 'cruel', 'cruel filthy', 'cruel illegal', 'cruel practice', 'cruelty', 'cruelty completely', 'cthe', 'culture', 'current', 'currently', 'custody', 'customer', 'customers', 'cut', 'cuts', 'da', 'dad', 'daily', 'damage', 'danger', 'dangerous', 'data', 'date', 'daughter', 'david', 'day', 'days', 'db', 'db dd', 'dc', 'dd', 'dd db', 'de', 'de la', 'dead', 'deal', 'dear', 'death', 'deaths', 'decades', 'december', 'decide', 'decided', 'decision', 'decisions', 'dedicated', 'deep', 'deeply', 'deer', 'defense', 'degree', 'delaware', 'delaware north', 'demand', 'demanding', 'denied', 'deny', 'department', 'deportation', 'deserve', 'deserves', 'designed', 'despite', 'details', 'determine', 'devastating', 'develop', 'developed', 'development', 'devices', 'diagnosed', 'die', 'died', 'difference', 'different', 'difficult', 'diploma', 'direct', 'direction', 'directly', 'directly supporting', 'director', 'directors', 'dirty', 'disabilities', 'disability', 'disabled', 'discovered', 'discrimination', 'discussion', 'disease', 'district', 'districts', 'division', 'doctor', 'doctors', 'dog', 'dogs', 'dollars', 'domestic', 'domestic violence', 'done', 'door', 'downtown', 'dr', 'dream', 'drive', 'driver', 'drivers', 'driving', 'drop', 'drug', 'drugs', 'due', 'duty', 'ea', 'eagle', 'early', 'earned', 'earth', 'easily', 'east', 'eat', 'eating', 'ec', 'economic', 'economy', 'ed', 'education', 'educational', 'ee', 'effect', 'effective', 'effectively', 'effects', 'effort', 'efforts', 'egg', 'egg laying', 'eggs', 'eggs cruel', 'eggs farms', 'either', 'el', 'elected', 'electronic', 'elementary', 'elementary school', 'eligible', 'eliminate', 'else', 'email', 'emergency', 'emma', 'employee', 'employees', 'employment', 'en', 'encourage', 'end', 'end extreme', 'energy', 'enforcement', 'engage', 'engage natural', 'english', 'enjoy', 'enough', 'ensure', 'entertainment', 'entire', 'entire european', 'environment', 'environment shocked', 'environmental', 'equal', 'equality', 'especially', 'essential', 'established', 'et', 'etc', 'european', 'european union', 'even', 'even spread', 'even though', 'event', 'events', 'ever', 'every', 'every day', 'every year', 'everyone', 'everything', 'evidence', 'example', 'executive', 'exercise', 'exist', 'existing', 'expansion', 'expect', 'expenses', 'experience', 'experienced', 'explain', 'express', 'expressed', 'extra', 'extreme', 'extreme animal', 'extremely', 'eye', 'face', 'facebook', 'facebook com', 'facebook page', 'facilities', 'facility', 'facing', 'fact', 'facts', 'faculty', 'failed', 'failure', 'fair', 'fairfax', 'faith', 'fall', 'false', 'families', 'family', 'family members', 'fan', 'fans', 'far', 'farm', 'farmers', 'farms', 'farms battery', 'farms pack', 'farms use', 'fast', 'father', 'favor', 'fda', 'fear', 'feature', 'february', 'federal', 'feel', 'fees', 'feet', 'fellow', 'felony', 'felt', 'female', 'festival', 'field', 'fight', 'fighting', 'file', 'filed', 'filled', 'film', 'filthy', 'filthy unsustainable', 'final', 'finally', 'financial', 'find', 'fine', 'fire', 'first', 'fish', 'fit', 'five', 'fix', 'flight', 'florida', 'focus', 'follow', 'following', 'food', 'food safety', 'food service', 'foot', 'football', 'force', 'forced', 'forest', 'forever', 'form', 'former', 'forward', 'forward thinking', 'fought', 'found', 'foundation', 'four', 'francisco', 'free', 'freedom', 'friend', 'friendly', 'friends', 'friends family', 'front', 'full', 'fully', 'fun', 'fund', 'funding', 'funds', 'furthermore', 'future', 'game', 'games', 'garden', 'gas', 'gate', 'gave', 'gay', 'geese', 'gender', 'general', 'generations', 'georgia', 'get', 'gets', 'getting', 'girl', 'girls', 'give', 'given', 'gives', 'giving', 'glendale', 'global', 'go', 'goal', 'goals', 'god', 'goes', 'going', 'gone', 'good', 'google', 'got', 'gov', 'government', 'governor', 'grade', 'graduate', 'graduation', 'grand', 'grant', 'granted', 'great', 'greater', 'greatly', 'green', 'ground', 'group', 'groups', 'grow', 'growing', 'growth', 'guidelines', 'guilty', 'gun', 'hair', 'half', 'hall', 'hand', 'hands', 'happen', 'happened', 'happening', 'happens', 'happy', 'harassment', 'hard', 'harm', 'harmful', 'hate', 'head', 'health', 'health care', 'healthcare', 'healthy', 'hear', 'heard', 'hearing', 'heart', 'held', 'help', 'help us', 'helped', 'helping', 'hens', 'hens tightly', 'high', 'high school', 'higher', 'highest', 'highly', 'highway', 'hill', 'historic', 'history', 'hit', 'hiv', 'hold', 'holding', 'home', 'homeless', 'homes', 'honor', 'hope', 'horse', 'horses', 'hospital', 'hospitality', 'hospitality company', 'hotel', 'hour', 'hours', 'house', 'housing', 'however', 'html', 'http', 'http www', 'https', 'https www', 'huge', 'human', 'human rights', 'humane', 'humans', 'hundreds', 'hunting', 'hurt', 'husband', 'ice', 'id', 'idea', 'ideas', 'identity', 'ignored', 'ill', 'illegal', 'illegal entire', 'illinois', 'illness', 'image', 'imagine', 'immediate', 'immediately', 'immigration', 'impact', 'important', 'improve', 'inc', 'incident', 'include', 'included', 'includes', 'including', 'income', 'increase', 'increased', 'increasing', 'incredibly', 'independent', 'indiana', 'individual', 'individuals', 'industry', 'influence', 'information', 'informed', 'injured', 'injuries', 'injury', 'innocent', 'inside', 'instead', 'insurance', 'interest', 'interests', 'international', 'internet', 'intersection', 'interview', 'introduced', 'investigation', 'involved', 'island', 'issue', 'issued', 'issues', 'items', 'jail', 'james', 'january', 'jeep', 'jersey', 'job', 'jobs', 'john', 'join', 'join us', 'jose', 'judge', 'july', 'june', 'junior', 'jury', 'justice', 'kansas', 'keep', 'keeping', 'kentucky', 'kept', 'key', 'kids', 'kill', 'killed', 'killing', 'kind', 'king', 'knew', 'know', 'knowing', 'knowledge', 'known', 'knows', 'la', 'labor', 'lack', 'lake', 'land', 'lane', 'language', 'large', 'larger', 'largest', 'last', 'last year', 'late', 'later', 'law', 'law enforcement', 'laws', 'laying', 'laying hens', 'le', 'lead', 'leader', 'leaders', 'leadership', 'leading', 'league', 'learn', 'learned', 'learning', 'least', 'leave', 'leaving', 'led', 'left', 'legacy', 'legal', 'legislation', 'legislature', 'les', 'less', 'let', 'letter', 'letters', 'level', 'levels', 'lgbt', 'library', 'license', 'life', 'light', 'like', 'like unilever', 'likely', 'limited', 'line', 'lines', 'link', 'liquid', 'liquid eggs', 'list', 'listed', 'listen', 'little', 'live', 'lived', 'lives', 'living', 'loan', 'local', 'located', 'location', 'long', 'long term', 'longer', 'look', 'looked', 'looking', 'los', 'los angeles', 'lose', 'losing', 'loss', 'lost', 'lot', 'love', 'loved', 'loving', 'low', 'lower', 'made', 'made commitments', 'mail', 'main', 'maintain', 'major', 'major companies', 'majority', 'make', 'make difference', 'make sure', 'makes', 'making', 'male', 'man', 'management', 'manager', 'manner', 'many', 'many people', 'many students', 'many us', 'many years', 'march', 'marijuana', 'marine', 'mark', 'market', 'marriage', 'married', 'maryland', 'math', 'matter', 'may', 'maybe', 'mayor', 'mean', 'means', 'measure', 'media', 'medicaid', 'medical', 'meet', 'meeting', 'member', 'members', 'memorial', 'men', 'mental', 'mental health', 'message', 'messages', 'met', 'methods', 'mexico', 'miami', 'michael', 'michigan', 'middle', 'might', 'mike', 'mile', 'miles', 'military', 'million', 'millions', 'minimum', 'minimum wage', 'minor', 'minutes', 'miss', 'missing', 'mission', 'missouri', 'mistake', 'mobile', 'mom', 'moment', 'monday', 'money', 'month', 'months', 'morning', 'mother', 'mountain', 'move', 'moved', 'movement', 'movie', 'moving', 'mr', 'mrs', 'ms', 'much', 'multiple', 'murder', 'music', 'must', 'name', 'named', 'names', 'nation', 'national', 'native', 'natural', 'natural behaviors', 'nature', 'nd', 'near', 'nearly', 'necessary', 'need', 'need help', 'needed', 'needs', 'negative', 'neighborhood', 'neighborhoods', 'neighbors', 'net', 'netflix', 'network', 'never', 'new', 'new jersey', 'new york', 'news', 'next', 'ng', 'night', 'nine', 'non', 'non profit', 'none', 'normal', 'north', 'north carolina', 'north companies', 'note', 'nothing', 'notice', 'november', 'number', 'numbers', 'numerous', 'nurse', 'nyu', 'oakland', 'obama', 'obtain', 'ocean', 'october', 'offensive', 'offer', 'offered', 'offering', 'office', 'officer', 'officers', 'official', 'officials', 'often', 'ohio', 'old', 'one', 'one thing', 'ones', 'online', 'onto', 'open', 'opening', 'operations', 'opinion', 'opportunities', 'opportunity', 'opposite', 'option', 'options', 'order', 'ordinance', 'oregon', 'org', 'organization', 'organizations', 'orientation', 'original', 'others', 'otherwise', 'outside', 'overall', 'owned', 'owner', 'owners', 'pack', 'pack egg', 'page', 'pages', 'paid', 'pain', 'para', 'parent', 'parents', 'paris', 'park', 'parking', 'parks', 'parole', 'part', 'participate', 'parties', 'parts', 'party', 'pass', 'passed', 'passing', 'past', 'patient', 'patients', 'pay', 'paying', 'payment', 'pdf', 'peace', 'pension', 'people', 'per', 'percent', 'perform', 'performance', 'performing', 'perhaps', 'period', 'permit', 'person', 'personal', 'personally', 'persons', 'pet', 'petition', 'petition ask', 'petition help', 'petition let', 'petition show', 'petitions', 'pets', 'phase', 'phase purchasing', 'phase use', 'phone', 'photo', 'photos', 'physical', 'pick', 'pit', 'place', 'placed', 'placement', 'places', 'plan', 'planned', 'planning', 'plans', 'plant', 'plastic', 'play', 'players', 'playing', 'please', 'please help', 'please join', 'please sign', 'plus', 'pm', 'point', 'points', 'police', 'police department', 'policies', 'policy', 'political', 'poor', 'popular', 'population', 'position', 'positive', 'possible', 'post', 'posted', 'potential', 'potentially', 'power', 'practice', 'practice cruel', 'practice sodexo', 'practices', 'pre', 'precious', 'presence', 'present', 'presented', 'preserve', 'president', 'press', 'pressure', 'prevent', 'prevention', 'previous', 'price', 'primary', 'principal', 'prior', 'prison', 'private', 'probably', 'problem', 'problems', 'process', 'product', 'production', 'products', 'professional', 'profit', 'program', 'programs', 'progress', 'project', 'projects', 'promise', 'promote', 'proper', 'properly', 'property', 'proposal', 'proposed', 'protect', 'protected', 'protecting', 'protection', 'protections', 'proud', 'prove', 'proven', 'provide', 'provided', 'provides', 'providing', 'public', 'publicly', 'pulled', 'punishment', 'puppy', 'purchase', 'purchased', 'purchasing', 'purchasing eggs', 'purpose', 'put', 'putting', 'quality', 'quality life', 'que', 'question', 'questions', 'quickly', 'quite', 'race', 'racial', 'racing', 'racist', 'radio', 'raise', 'raised', 'rape', 'rare', 'rate', 'rates', 'rather', 'rd', 'reach', 'read', 'reading', 'real', 'reality', 'realize', 'really', 'reason', 'reasonable', 'reasons', 'receive', 'received', 'receiving', 'recent', 'recently', 'recognize', 'recognized', 'reconsider', 'record', 'records', 'recreation', 'red', 'reduce', 'reduced', 'refuse', 'refused', 'refuses', 'regarding', 'regardless', 'region', 'regular', 'regulations', 'related', 'relationship', 'release', 'released', 'religion', 'religious', 'remain', 'remains', 'remember', 'removal', 'remove', 'removed', 'rent', 'repeatedly', 'report', 'reported', 'reports', 'represent', 'representative', 'representatives', 'request', 'requesting', 'requests', 'require', 'required', 'requirements', 'requires', 'rescue', 'research', 'resident', 'residential', 'residents', 'resolution', 'resource', 'resources', 'respect', 'respectfully', 'response', 'responsibility', 'responsible', 'rest', 'restaurant', 'result', 'return', 'returned', 'revenue', 'review', 'rezoning', 'richard', 'ride', 'ridge', 'right', 'right thing', 'rights', 'risk', 'risks', 'river', 'road', 'rock', 'role', 'room', 'round', 'route', 'rule', 'rules', 'run', 'running', 'ryan', 'safe', 'safely', 'safety', 'said', 'sale', 'sales', 'san', 'san francisco', 'sanders', 'santa', 'sarah', 'save', 'saw', 'say', 'saying', 'says', 'sb', 'scene', 'scheduled', 'school', 'school board', 'school district', 'school year', 'schools', 'science', 'scott', 'scout', 'scouts', 'sea', 'search', 'season', 'seattle', 'seaworld', 'second', 'secret', 'section', 'secure', 'security', 'see', 'seeing', 'seek', 'seem', 'seems', 'seen', 'self', 'sell', 'selling', 'senate', 'senator', 'send', 'sending', 'senior', 'sense', 'sent', 'sentence', 'september', 'series', 'serious', 'seriously', 'serve', 'served', 'service', 'service company', 'services', 'serving', 'set', 'setting', 'seven', 'several', 'several states', 'severe', 'sex', 'sexual', 'sexual assault', 'sexual orientation', 'shall', 'share', 'share petition', 'shelter', 'sheriff', 'shocked', 'shocked learn', 'shop', 'short', 'shot', 'show', 'show support', 'showed', 'showing', 'shown', 'shows', 'shut', 'sick', 'side', 'sierra', 'sign', 'sign petition', 'signature', 'signatures', 'signed', 'significant', 'significantly', 'signing', 'signing petition', 'signs', 'silent', 'similar', 'simple', 'simply', 'since', 'sincerely', 'single', 'sister', 'sit', 'site', 'sites', 'situation', 'six', 'size', 'skills', 'small', 'social', 'social media', 'society', 'sodexo', 'sold', 'solution', 'someone', 'something', 'son', 'soon', 'sound', 'source', 'south', 'southern', 'space', 'speak', 'speaking', 'special', 'species', 'specific', 'specifically', 'speech', 'speed', 'spend', 'spending', 'spent', 'sport', 'sports', 'spread', 'spread wings', 'spring', 'st', 'staff', 'stage', 'stand', 'standard', 'standards', 'standing', 'stands', 'star', 'start', 'started', 'starting', 'state', 'state university', 'stated', 'statement', 'states', 'states us', 'stating', 'station', 'status', 'stay', 'step', 'steps', 'still', 'stop', 'stopped', 'store', 'stores', 'stories', 'story', 'street', 'streets', 'stress', 'strong', 'strongly', 'student', 'students', 'studies', 'studio', 'study', 'subject', 'success', 'successful', 'suffer', 'suffered', 'suffering', 'suicide', 'summer', 'superintendent', 'supervisor', 'supervisors', 'support', 'supported', 'supporters', 'supporting', 'supporting cruel', 'supposed', 'sure', 'surgery', 'surrounding', 'survive', 'survivors', 'suspended', 'suspension', 'system', 'systems', 'take', 'take action', 'taken', 'takes', 'taking', 'talk', 'talking', 'target', 'tax', 'taxes', 'teach', 'teacher', 'teachers', 'teaching', 'team', 'teams', 'technology', 'teen', 'television', 'tell', 'telling', 'ten', 'term', 'terminate', 'terms', 'terrible', 'terrible practice', 'test', 'testing', 'tests', 'texas', 'th', 'thank', 'thanks', 'therapy', 'therefore', 'thing', 'things', 'think', 'thinking', 'third', 'though', 'thought', 'thousands', 'threat', 'threatened', 'threatening', 'three', 'three years', 'throughout', 'thus', 'tickets', 'tightly', 'tightly tiny', 'time', 'times', 'tiny', 'tiny wire', 'title', 'today', 'together', 'told', 'took', 'top', 'total', 'tour', 'toward', 'towards', 'tower', 'town', 'township', 'toxic', 'track', 'traffic', 'trafficking', 'train', 'training', 'trans', 'transgender', 'transportation', 'travel', 'travis', 'treat', 'treated', 'treatment', 'tree', 'trees', 'trial', 'tried', 'trip', 'trouble', 'truck', 'true', 'truly', 'trump', 'trust', 'trustees', 'truth', 'try', 'trying', 'tuition', 'turn', 'turned', 'twitter', 'two', 'two years', 'type', 'types', 'ultimately', 'un', 'unable', 'unacceptable', 'undersigned', 'understand', 'understanding', 'unfair', 'unfortunately', 'unilever', 'unilever delaware', 'union', 'union several', 'unique', 'united', 'united states', 'universities', 'university', 'unless', 'unnecessary', 'unsustainable', 'unsustainable battery', 'update', 'upon', 'urban', 'urge', 'us', 'us major', 'use', 'use battery', 'use terrible', 'used', 'user', 'users', 'uses', 'uses liquid', 'using', 'usually', 'utah', 'valley', 'valuable', 'value', 'values', 'van', 'various', 'vehicle', 'vehicles', 'veteran', 'veterans', 'via', 'victim', 'victims', 'video', 'videos', 'view', 'village', 'violated', 'violation', 'violations', 'violence', 'violent', 'virginia', 'visit', 'visitors', 'vital', 'voice', 'voices', 'volunteer', 'vote', 'voters', 'wage', 'wait', 'waiting', 'walk', 'walking', 'want', 'wanted', 'wants', 'war', 'washington', 'waste', 'watch', 'watching', 'water', 'way', 'ways', 'wear', 'weather', 'website', 'week', 'weeks', 'weight', 'welfare', 'well', 'went', 'west', 'whereas', 'whether', 'white', 'whole', 'whose', 'wide', 'wife', 'wild', 'wildlife', 'willing', 'win', 'wings', 'wings engage', 'wire', 'wire cages', 'wish', 'within', 'without', 'woman', 'women', 'wonderful', 'word', 'words', 'work', 'worked', 'worker', 'workers', 'working', 'works', 'world', 'worse', 'worst', 'worth', 'would', 'would allow', 'would like', 'write', 'writing', 'written', 'wrong', 'wrote', 'www', 'www facebook', 'www youtube', 'xe', 'xf', 'year', 'year old', 'years', 'years ago', 'years old', 'yes', 'yet', 'york', 'young', 'youth', 'youtube', 'youtube com', 'zoning']\n"
     ]
    }
   ],
   "source": [
    "vocab = vectorizer.get_feature_names()\n",
    "print (vocab)"
   ]
  },
  {
   "cell_type": "code",
   "execution_count": 251,
   "metadata": {
    "collapsed": true
   },
   "outputs": [],
   "source": [
    "import numpy as np\n",
    "\n",
    "# Sum up the counts of each vocabulary word\n",
    "dist = np.sum(train_data_features, axis=0)\n",
    "\n",
    "# For each, print the vocabulary word and the number of times it \n",
    "# appears in the training set\n",
    "#for tag, count in zip(vocab, dist):\n",
    "#    print (count, tag)"
   ]
  },
  {
   "cell_type": "markdown",
   "metadata": {},
   "source": [
    "## logistic regression"
   ]
  },
  {
   "cell_type": "code",
   "execution_count": 27,
   "metadata": {
    "collapsed": true
   },
   "outputs": [],
   "source": [
    "from sklearn.linear_model import LogisticRegression\n",
    "logit=LogisticRegression(penalty='l2', dual=False, tol=0.0001, C=1.0, fit_intercept=True,\n",
    "                         intercept_scaling=1, class_weight=None, random_state=None, \n",
    "                         solver='liblinear', max_iter=100, multi_class='ovr',\n",
    "                         verbose=0, warm_start=False, n_jobs=1)\n",
    "logitReg=logit.fit(train_data_features,combined_df['N>1000'] )"
   ]
  },
  {
   "cell_type": "markdown",
   "metadata": {},
   "source": [
    "## t-SNE"
   ]
  },
  {
   "cell_type": "code",
   "execution_count": 28,
   "metadata": {
    "collapsed": true
   },
   "outputs": [],
   "source": [
    "import numpy as np\n",
    "from sklearn.manifold import TSNE\n",
    "model_tSNE = TSNE(n_components=2, random_state=0)\n",
    "np.set_printoptions(suppress=True)\n",
    "train_tSNE=model_tSNE.fit_transform(train_data_features) \n"
   ]
  },
  {
   "cell_type": "code",
   "execution_count": 319,
   "metadata": {},
   "outputs": [
    {
     "data": {
      "text/plain": [
       "array([-18.91457919, -20.2829302 ,  -9.13573898, ..., -12.97454714,\n",
       "         5.20466305,   3.90891194])"
      ]
     },
     "execution_count": 319,
     "metadata": {},
     "output_type": "execute_result"
    }
   ],
   "source": [
    "train_tSNE[:,0]"
   ]
  },
  {
   "cell_type": "markdown",
   "metadata": {},
   "source": [
    "## plot with plotly"
   ]
  },
  {
   "cell_type": "code",
   "execution_count": 29,
   "metadata": {
    "scrolled": false
   },
   "outputs": [
    {
     "name": "stdout",
     "output_type": "stream",
     "text": [
      "High five! You successfuly sent some data to your account on plotly. View your plot in your browser at https://plot.ly/~cherry8177/0 or inside your plot.ly account where it is named 'scatter-plot-with-colorscale'\n"
     ]
    },
    {
     "data": {
      "text/html": [
       "<iframe id=\"igraph\" scrolling=\"no\" style=\"border:none;\" seamless=\"seamless\" src=\"https://plot.ly/~cherry8177/0.embed\" height=\"525px\" width=\"100%\"></iframe>"
      ],
      "text/plain": [
       "<plotly.tools.PlotlyDisplay object>"
      ]
     },
     "execution_count": 29,
     "metadata": {},
     "output_type": "execute_result"
    }
   ],
   "source": [
    "import plotly\n",
    "import plotly.graph_objs as go\n",
    "import plotly.plotly as py\n",
    "\n",
    "import numpy as np\n",
    "plotly.tools.set_credentials_file\\\n",
    "(username='cherry8177', api_key='3FTZrZRMQSDYshs8rxJ7')\n",
    "\n",
    "\n",
    "trace1 = go.Scatter(\n",
    "    x = train_tSNE[:,0],\n",
    "    y = train_tSNE[:,1],\n",
    "    mode='markers',\n",
    "    marker=dict(\n",
    "        size='6',\n",
    "        color = np.log10(combined_df.No_Supporters) , #set color equal to a variable\n",
    "        colorscale='Viridis',\n",
    "        showscale=True\n",
    "    )\n",
    ")\n",
    "data = [trace1]\n",
    "\n",
    "py.iplot(data, filename='scatter-plot-with-colorscale')"
   ]
  },
  {
   "cell_type": "markdown",
   "metadata": {},
   "source": [
    "combined_df['N>10000']=combined_df.No_Supporters>10000\n",
    "combined_df['N>50000']=combined_df.No_Supporters>50000\n",
    "combined_df['N>100000']=combined_df.No_Supporters>100000"
   ]
  },
  {
   "cell_type": "code",
   "execution_count": 30,
   "metadata": {
    "collapsed": true
   },
   "outputs": [],
   "source": [
    "#testing_Df\n",
    "test_dict=pd.read_pickle('recent_petition0608.pkl')\n",
    "test_df=pd.DataFrame.from_dict(test_dict,orient='index')\n",
    "test_df.head(5)\n",
    "test_df.reset_index(inplace=True)\n",
    "test_df.columns=['Petition_Url',\"Title\",\"Text\",\"No_Supporters\"]\n",
    "def str2float(s):\n",
    "    s = str(s).strip().replace(',','')\n",
    "    #s = re.sub('[^0-9]+', '0', s)\n",
    "    return float(s)\n",
    "test_df.No_Supporters=test_df.No_Supporters.apply(str2float)\n",
    "test_df['N>1000']=test_df.No_Supporters>1000\n",
    "test_df['N>10000']=test_df.No_Supporters>10000\n",
    "test_df['N>50000']=test_df.No_Supporters>50000\n",
    "test_df['N>100000']=test_df.No_Supporters>100000"
   ]
  },
  {
   "cell_type": "code",
   "execution_count": 264,
   "metadata": {},
   "outputs": [
    {
     "data": {
      "text/html": [
       "<div>\n",
       "<style>\n",
       "    .dataframe thead tr:only-child th {\n",
       "        text-align: right;\n",
       "    }\n",
       "\n",
       "    .dataframe thead th {\n",
       "        text-align: left;\n",
       "    }\n",
       "\n",
       "    .dataframe tbody tr th {\n",
       "        vertical-align: top;\n",
       "    }\n",
       "</style>\n",
       "<table border=\"1\" class=\"dataframe\">\n",
       "  <thead>\n",
       "    <tr style=\"text-align: right;\">\n",
       "      <th></th>\n",
       "      <th>No_Supporters</th>\n",
       "    </tr>\n",
       "  </thead>\n",
       "  <tbody>\n",
       "    <tr>\n",
       "      <th>count</th>\n",
       "      <td>1381.000000</td>\n",
       "    </tr>\n",
       "    <tr>\n",
       "      <th>mean</th>\n",
       "      <td>854.784938</td>\n",
       "    </tr>\n",
       "    <tr>\n",
       "      <th>std</th>\n",
       "      <td>11193.922046</td>\n",
       "    </tr>\n",
       "    <tr>\n",
       "      <th>min</th>\n",
       "      <td>5.000000</td>\n",
       "    </tr>\n",
       "    <tr>\n",
       "      <th>25%</th>\n",
       "      <td>11.000000</td>\n",
       "    </tr>\n",
       "    <tr>\n",
       "      <th>50%</th>\n",
       "      <td>32.000000</td>\n",
       "    </tr>\n",
       "    <tr>\n",
       "      <th>75%</th>\n",
       "      <td>161.000000</td>\n",
       "    </tr>\n",
       "    <tr>\n",
       "      <th>max</th>\n",
       "      <td>395657.000000</td>\n",
       "    </tr>\n",
       "  </tbody>\n",
       "</table>\n",
       "</div>"
      ],
      "text/plain": [
       "       No_Supporters\n",
       "count    1381.000000\n",
       "mean      854.784938\n",
       "std     11193.922046\n",
       "min         5.000000\n",
       "25%        11.000000\n",
       "50%        32.000000\n",
       "75%       161.000000\n",
       "max    395657.000000"
      ]
     },
     "execution_count": 264,
     "metadata": {},
     "output_type": "execute_result"
    }
   ],
   "source": [
    "test_df.describe()"
   ]
  },
  {
   "cell_type": "code",
   "execution_count": 330,
   "metadata": {},
   "outputs": [
    {
     "data": {
      "text/plain": [
       "<matplotlib.axes._subplots.AxesSubplot at 0x123c5d320>"
      ]
     },
     "execution_count": 330,
     "metadata": {},
     "output_type": "execute_result"
    },
    {
     "data": {
      "image/png": "[encoded data removed]",
      "text/plain": [
       "<matplotlib.figure.Figure at 0x123c654e0>"
      ]
     },
     "metadata": {},
     "output_type": "display_data"
    }
   ],
   "source": [
    "sns.distplot(test_df.No_Supporters ,kde=False)"
   ]
  },
  {
   "cell_type": "code",
   "execution_count": 300,
   "metadata": {},
   "outputs": [
    {
     "data": {
      "text/plain": [
       "<matplotlib.axes._subplots.AxesSubplot at 0x127c9cdd8>"
      ]
     },
     "execution_count": 300,
     "metadata": {},
     "output_type": "execute_result"
    },
    {
     "data": {
      "image/png": "[encoded data removed]",
      "text/plain": [
       "<matplotlib.figure.Figure at 0x1232dcda0>"
      ]
     },
     "metadata": {},
     "output_type": "display_data"
    }
   ],
   "source": [
    "sns.distplot(test_df.No_Supporters ,kde=False)\n",
    "sns.distplot(np.log10(test_df.No_Supporters) ,kde=False)"
   ]
  },
  {
   "cell_type": "code",
   "execution_count": 260,
   "metadata": {},
   "outputs": [
    {
     "data": {
      "text/html": [
       "<div>\n",
       "<style>\n",
       "    .dataframe thead tr:only-child th {\n",
       "        text-align: right;\n",
       "    }\n",
       "\n",
       "    .dataframe thead th {\n",
       "        text-align: left;\n",
       "    }\n",
       "\n",
       "    .dataframe tbody tr th {\n",
       "        vertical-align: top;\n",
       "    }\n",
       "</style>\n",
       "<table border=\"1\" class=\"dataframe\">\n",
       "  <thead>\n",
       "    <tr style=\"text-align: right;\">\n",
       "      <th></th>\n",
       "      <th>Petition_Url</th>\n",
       "      <th>Title</th>\n",
       "      <th>Text</th>\n",
       "      <th>No_Supporters</th>\n",
       "      <th>N&gt;10000</th>\n",
       "      <th>N&gt;50000</th>\n",
       "      <th>N&gt;100000</th>\n",
       "    </tr>\n",
       "  </thead>\n",
       "  <tbody>\n",
       "    <tr>\n",
       "      <th>0</th>\n",
       "      <td>https://www.change.org/p/california-governor-a...</td>\n",
       "      <td>Arrest Kathy Griffin for domestic terrorism</td>\n",
       "      <td>[ What Kathy Griffin has done is just absolute...</td>\n",
       "      <td>1084.0</td>\n",
       "      <td>False</td>\n",
       "      <td>False</td>\n",
       "      <td>False</td>\n",
       "    </tr>\n",
       "    <tr>\n",
       "      <th>1</th>\n",
       "      <td>https://www.change.org/p/brad-miyake-save-300-...</td>\n",
       "      <td>Save 300 trees in East Bellevue</td>\n",
       "      <td>[ Dear City Manager Brad Miyake, ,  We the und...</td>\n",
       "      <td>811.0</td>\n",
       "      <td>False</td>\n",
       "      <td>False</td>\n",
       "      <td>False</td>\n",
       "    </tr>\n",
       "    <tr>\n",
       "      <th>2</th>\n",
       "      <td>https://www.change.org/p/jansante-zeb-bphawks-...</td>\n",
       "      <td>Move Bethel Park High School Graduation back ...</td>\n",
       "      <td>[ Topic - Bethel Park High School Graduation. ...</td>\n",
       "      <td>450.0</td>\n",
       "      <td>False</td>\n",
       "      <td>False</td>\n",
       "      <td>False</td>\n",
       "    </tr>\n",
       "    <tr>\n",
       "      <th>3</th>\n",
       "      <td>https://www.change.org/p/community-conservatio...</td>\n",
       "      <td>Save The Ocean; Save Ourselves</td>\n",
       "      <td>[ Dear world,Â  ,  Because the oceans are the ...</td>\n",
       "      <td>21.0</td>\n",
       "      <td>False</td>\n",
       "      <td>False</td>\n",
       "      <td>False</td>\n",
       "    </tr>\n",
       "    <tr>\n",
       "      <th>4</th>\n",
       "      <td>https://www.change.org/p/the-melee-community-b...</td>\n",
       "      <td>Ban Pokemon Stadium in super smash bros melee...</td>\n",
       "      <td>[ Pokemon Stadium is just an unbalanced jank s...</td>\n",
       "      <td>11.0</td>\n",
       "      <td>False</td>\n",
       "      <td>False</td>\n",
       "      <td>False</td>\n",
       "    </tr>\n",
       "  </tbody>\n",
       "</table>\n",
       "</div>"
      ],
      "text/plain": [
       "                                        Petition_Url  \\\n",
       "0  https://www.change.org/p/california-governor-a...   \n",
       "1  https://www.change.org/p/brad-miyake-save-300-...   \n",
       "2  https://www.change.org/p/jansante-zeb-bphawks-...   \n",
       "3  https://www.change.org/p/community-conservatio...   \n",
       "4  https://www.change.org/p/the-melee-community-b...   \n",
       "\n",
       "                                               Title  \\\n",
       "0       Arrest Kathy Griffin for domestic terrorism    \n",
       "1                   Save 300 trees in East Bellevue    \n",
       "2   Move Bethel Park High School Graduation back ...   \n",
       "3                    Save The Ocean; Save Ourselves    \n",
       "4   Ban Pokemon Stadium in super smash bros melee...   \n",
       "\n",
       "                                                Text  No_Supporters  N>10000  \\\n",
       "0  [ What Kathy Griffin has done is just absolute...         1084.0    False   \n",
       "1  [ Dear City Manager Brad Miyake, ,  We the und...          811.0    False   \n",
       "2  [ Topic - Bethel Park High School Graduation. ...          450.0    False   \n",
       "3  [ Dear world,Â  ,  Because the oceans are the ...           21.0    False   \n",
       "4  [ Pokemon Stadium is just an unbalanced jank s...           11.0    False   \n",
       "\n",
       "   N>50000  N>100000  \n",
       "0    False     False  \n",
       "1    False     False  \n",
       "2    False     False  \n",
       "3    False     False  \n",
       "4    False     False  "
      ]
     },
     "execution_count": 260,
     "metadata": {},
     "output_type": "execute_result"
    }
   ],
   "source": [
    "test_df.head()"
   ]
  },
  {
   "cell_type": "code",
   "execution_count": 31,
   "metadata": {},
   "outputs": [
    {
     "name": "stderr",
     "output_type": "stream",
     "text": [
      "/Users/feiwang/anaconda3/envs/py36er/lib/python3.6/site-packages/bs4/__init__.py:181: UserWarning:\n",
      "\n",
      "No parser was explicitly specified, so I'm using the best available HTML parser for this system (\"html5lib\"). This usually isn't a problem, but if you run this code on another system, or in a different virtual environment, it may use a different parser and behave differently.\n",
      "\n",
      "The code that caused this warning is on line 193 of the file /Users/feiwang/anaconda3/envs/py36er/lib/python3.6/runpy.py. To get rid of this warning, change code that looks like this:\n",
      "\n",
      " BeautifulSoup(YOUR_MARKUP})\n",
      "\n",
      "to this:\n",
      "\n",
      " BeautifulSoup(YOUR_MARKUP, \"html5lib\")\n",
      "\n",
      "\n"
     ]
    }
   ],
   "source": [
    "letters_only=(test_df['Text'].apply(lambda x:re.sub(u\"\\xa0\",u\" \",str(x)))\n",
    ".apply(lambda x: BeautifulSoup(x).get_text())\n",
    ".apply(lambda x:re.sub(\"[^a-zA-Z]\",\" \",x))\n",
    "       .apply(lambda x: x.lower().split())\n",
    "             )\n",
    "\n",
    "test_texts=[]\n",
    "num_texts = test_df[\"Text\"].size\n",
    "for i in range( 0, num_texts ):\n",
    "    # Call our function for each one, and add the result to the list of\n",
    "    # clean reviews\n",
    "    test_texts.append( \" \".join(remove_sw(letters_only[i],new_stopwords)))"
   ]
  },
  {
   "cell_type": "markdown",
   "metadata": {},
   "source": [
    "## Testing run"
   ]
  },
  {
   "cell_type": "code",
   "execution_count": 32,
   "metadata": {
    "collapsed": true
   },
   "outputs": [],
   "source": [
    "test_data_features = vectorizer.transform(test_texts)\n",
    "test_data_features = test_data_features.toarray()\n",
    "\n",
    "# Use the random forest to make sentiment label predictions\n",
    "result = forest.predict(test_data_features)"
   ]
  },
  {
   "cell_type": "code",
   "execution_count": 33,
   "metadata": {
    "collapsed": true
   },
   "outputs": [],
   "source": [
    "import numpy as np\n",
    "from sklearn.manifold import TSNE\n",
    "model_tSNE = TSNE(n_components=2, random_state=0)\n",
    "np.set_printoptions(suppress=True)\n",
    "test_tSNE=model_tSNE.fit_transform(test_data_features)"
   ]
  },
  {
   "cell_type": "code",
   "execution_count": 34,
   "metadata": {},
   "outputs": [
    {
     "name": "stdout",
     "output_type": "stream",
     "text": [
      "High five! You successfuly sent some data to your account on plotly. View your plot in your browser at https://plot.ly/~cherry8177/0 or inside your plot.ly account where it is named 'scatter-plot-with-colorscale'\n"
     ]
    },
    {
     "data": {
      "text/html": [
       "<iframe id=\"igraph\" scrolling=\"no\" style=\"border:none;\" seamless=\"seamless\" src=\"https://plot.ly/~cherry8177/0.embed\" height=\"525px\" width=\"100%\"></iframe>"
      ],
      "text/plain": [
       "<plotly.tools.PlotlyDisplay object>"
      ]
     },
     "execution_count": 34,
     "metadata": {},
     "output_type": "execute_result"
    }
   ],
   "source": [
    "import plotly\n",
    "import plotly.graph_objs as go\n",
    "import plotly.plotly as py\n",
    "\n",
    "import numpy as np\n",
    "plotly.tools.set_credentials_file(username='cherry8177', \n",
    "                                  api_key='3FTZrZRMQSDYshs8rxJ7')\n",
    "\n",
    "\n",
    "trace2 = go.Scatter(\n",
    "    x = test_tSNE[:,0],\n",
    "    y = test_tSNE[:,1],\n",
    "    mode='markers',\n",
    "    marker=dict(\n",
    "        size='6',\n",
    "        color = np.log10(test_df.No_Supporters) , #set color equal to a variable\n",
    "        colorscale='Viridis',\n",
    "        showscale=True\n",
    "    )\n",
    ")\n",
    "data1 = [trace2]\n",
    "\n",
    "py.iplot(data1, filename='scatter-plot-with-colorscale')"
   ]
  },
  {
   "cell_type": "code",
   "execution_count": 35,
   "metadata": {
    "collapsed": true
   },
   "outputs": [],
   "source": [
    "output = pd.DataFrame( data={\"id\":test_df[\"Petition_Url\"], \">1000\":result} )"
   ]
  },
  {
   "cell_type": "markdown",
   "metadata": {},
   "source": [
    "## Test logistic regression"
   ]
  },
  {
   "cell_type": "code",
   "execution_count": 37,
   "metadata": {},
   "outputs": [
    {
     "data": {
      "text/plain": [
       "292"
      ]
     },
     "execution_count": 37,
     "metadata": {},
     "output_type": "execute_result"
    }
   ],
   "source": [
    "test_predict_logit=logitReg.predict(test_data_features)\n",
    "sum(test_predict_logit)"
   ]
  },
  {
   "cell_type": "code",
   "execution_count": 41,
   "metadata": {},
   "outputs": [
    {
     "name": "stdout",
     "output_type": "stream",
     "text": [
      "55\n",
      "237\n",
      "52\n",
      "1037\n"
     ]
    }
   ],
   "source": [
    "print(sum(test_df.No_Supporters[test_predict_logit]>1000))\n",
    "print(sum(test_df.No_Supporters[test_predict_logit]<1000))\n",
    "print(sum(test_df.No_Supporters[test_predict_logit==False]>1000))\n",
    "print(sum(test_df.No_Supporters[test_predict_logit==False]<1000))"
   ]
  },
  {
   "cell_type": "code",
   "execution_count": 42,
   "metadata": {},
   "outputs": [
    {
     "data": {
      "text/plain": [
       "0.7907313540912382"
      ]
     },
     "execution_count": 42,
     "metadata": {},
     "output_type": "execute_result"
    }
   ],
   "source": [
    "(55+1037)/len(test_df.No_Supporters)"
   ]
  },
  {
   "cell_type": "code",
   "execution_count": 44,
   "metadata": {
    "collapsed": true
   },
   "outputs": [],
   "source": [
    "data3=[np.log10(test_df.No_Supporters),np.log10(test_df.No_Supporters[test_predict_logit])]"
   ]
  },
  {
   "cell_type": "code",
   "execution_count": 45,
   "metadata": {},
   "outputs": [
    {
     "data": {
      "text/plain": [
       "<matplotlib.axes._subplots.AxesSubplot at 0x118d03438>"
      ]
     },
     "execution_count": 45,
     "metadata": {},
     "output_type": "execute_result"
    },
    {
     "data": {
      "image/png": "[encoded data removed]",
      "text/plain": [
       "<matplotlib.figure.Figure at 0x118cfaac8>"
      ]
     },
     "metadata": {},
     "output_type": "display_data"
    }
   ],
   "source": [
    "pal = sns.cubehelix_palette(2, rot=-.5, dark=.3)\n",
    "\n",
    "# Show each distribution with both violins and points\n",
    "sns.violinplot(data=data3, palette=pal, inner=\"points\")"
   ]
  }
 ],
 "metadata": {
  "kernelspec": {
   "display_name": "Python 3",
   "language": "python",
   "name": "python3"
  },
  "language_info": {
   "codemirror_mode": {
    "name": "ipython",
    "version": 3
   },
   "file_extension": ".py",
   "mimetype": "text/x-python",
   "name": "python",
   "nbconvert_exporter": "python",
   "pygments_lexer": "ipython3",
   "version": "3.6.1"
  }
 },
 "nbformat": 4,
 "nbformat_minor": 2
}
