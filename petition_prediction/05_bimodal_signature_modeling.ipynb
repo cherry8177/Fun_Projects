{
 "cells": [
  {
   "cell_type": "code",
   "execution_count": 44,
   "metadata": {},
   "outputs": [
    {
     "name": "stdout",
     "output_type": "stream",
     "text": [
      "The autoreload extension is already loaded. To reload it, use:\n",
      "  %reload_ext autoreload\n"
     ]
    }
   ],
   "source": [
    "%load_ext autoreload\n",
    "\n",
    "%autoreload 2"
   ]
  },
  {
   "cell_type": "code",
   "execution_count": 91,
   "metadata": {},
   "outputs": [
    {
     "name": "stdout",
     "output_type": "stream",
     "text": [
      "Populating the interactive namespace from numpy and matplotlib\n"
     ]
    }
   ],
   "source": [
    "import pandas as pd\n",
    "%pylab inline"
   ]
  },
  {
   "cell_type": "code",
   "execution_count": 4,
   "metadata": {
    "collapsed": true
   },
   "outputs": [],
   "source": [
    "df=pd.read_csv('Vic_petition_data.csv',encoding=\"utf-8\")"
   ]
  },
  {
   "cell_type": "code",
   "execution_count": 7,
   "metadata": {},
   "outputs": [
    {
     "data": {
      "text/plain": [
       "(521, 18)"
      ]
     },
     "execution_count": 7,
     "metadata": {},
     "output_type": "execute_result"
    }
   ],
   "source": [
    "df1=df.loc[df.No_Supporters_log>=5]\n",
    "df1.shape"
   ]
  },
  {
   "cell_type": "code",
   "execution_count": 8,
   "metadata": {},
   "outputs": [
    {
     "data": {
      "text/plain": [
       "(3131, 18)"
      ]
     },
     "execution_count": 8,
     "metadata": {},
     "output_type": "execute_result"
    }
   ],
   "source": [
    "df2=df.loc[df.No_Supporters_log<5]\n",
    "df2.shape"
   ]
  },
  {
   "cell_type": "code",
   "execution_count": 9,
   "metadata": {
    "collapsed": true
   },
   "outputs": [],
   "source": [
    "import numpy as np\n",
    "from sklearn.model_selection import train_test_split\n",
    "x1, y1 = (df1[['Title', 'Text','Title_str_len' ,\n",
    "       'start_time', 'Text_len_p1','Text_len_p2', 'Title_len', 'Text_str_len','Image','Tweet']], \n",
    "         df1.No_Supporters_log)\n",
    "x1_train, x1_test, y1_train, y1_test = train_test_split(\n",
    "    x1, y1, test_size=0.25, random_state=42)\n",
    "\n",
    "x2, y2 = (df2[['Title', 'Text','Title_str_len' ,\n",
    "       'start_time', 'Text_len_p1','Text_len_p2', 'Title_len', 'Text_str_len','Image','Tweet']], \n",
    "         df2.No_Supporters_log)\n",
    "x2_train, x2_test, y2_train, y2_test = train_test_split(\n",
    "    x2, y2, test_size=0.25, random_state=42)"
   ]
  },
  {
   "cell_type": "code",
   "execution_count": 29,
   "metadata": {},
   "outputs": [
    {
     "data": {
      "text/plain": [
       "(390, 10)"
      ]
     },
     "execution_count": 29,
     "metadata": {},
     "output_type": "execute_result"
    }
   ],
   "source": [
    "x1_train.shape"
   ]
  },
  {
   "cell_type": "code",
   "execution_count": 28,
   "metadata": {
    "collapsed": true
   },
   "outputs": [],
   "source": [
    "from sklearn.feature_extraction.text import CountVectorizer\n",
    "\n",
    "text_court_vectorizer1 = CountVectorizer(analyzer = \"word\",   \n",
    "                             tokenizer = None,\n",
    "                             ngram_range=(1, 2),\n",
    "                             preprocessor = None, \n",
    "                             stop_words = None,   \n",
    "                             max_features = 2500) \n",
    "text_court_vectorizer2 = CountVectorizer(analyzer = \"word\",   \n",
    "                             tokenizer = None,\n",
    "                             ngram_range=(1, 2),\n",
    "                             preprocessor = None, \n",
    "                             stop_words = None,   \n",
    "                             max_features = 2500) "
   ]
  },
  {
   "cell_type": "code",
   "execution_count": 7,
   "metadata": {
    "collapsed": true
   },
   "outputs": [],
   "source": []
  },
  {
   "cell_type": "code",
   "execution_count": null,
   "metadata": {
    "collapsed": true
   },
   "outputs": [],
   "source": []
  },
  {
   "cell_type": "code",
   "execution_count": null,
   "metadata": {
    "collapsed": true
   },
   "outputs": [],
   "source": []
  },
  {
   "cell_type": "code",
   "execution_count": 11,
   "metadata": {
    "collapsed": true
   },
   "outputs": [],
   "source": [
    "\n",
    "train_text_features1 = text_court_vectorizer1.fit_transform((x1_train.Text).values.astype('U'))\n",
    "train_text_features1 = train_text_features1.toarray()\n",
    "test_text_features1 = text_court_vectorizer1.transform((x1_test.Text).values.astype('U'))\n",
    "test_text_features1 = test_text_features1.toarray()\n",
    "train_text_features2 = text_court_vectorizer2.fit_transform((x2_train.Text).values.astype('U'))\n",
    "train_text_features2 = train_text_features2.toarray()\n",
    "test_text_features2 = text_court_vectorizer2.transform((x2_test.Text).values.astype('U'))\n",
    "test_text_features2 = test_text_features2.toarray()\n",
    "\n",
    "# import pickle\n",
    "# pickle.dump(text_court_vectorizer,open('text_court_vectorizer_v2.pickle','wb'))"
   ]
  },
  {
   "cell_type": "code",
   "execution_count": 27,
   "metadata": {},
   "outputs": [
    {
     "data": {
      "text/plain": [
       "(390, 2500)"
      ]
     },
     "execution_count": 27,
     "metadata": {},
     "output_type": "execute_result"
    }
   ],
   "source": [
    "train_text_features1.shape"
   ]
  },
  {
   "cell_type": "code",
   "execution_count": 29,
   "metadata": {
    "collapsed": true
   },
   "outputs": [],
   "source": [
    "\n",
    "# train_text_idf_features = text_idf_transformer.fit_transform(train_text_features)\n",
    "# train_text_idf_features=train_text_idf_features.toarray()\n",
    "# test_text_idf_features = text_idf_transformer.transform(test_text_features)\n",
    "# test_text_idf_features=test_text_idf_features.toarray()"
   ]
  },
  {
   "cell_type": "code",
   "execution_count": 28,
   "metadata": {
    "collapsed": true
   },
   "outputs": [],
   "source": [
    "#text_court_vectorizer.vocabulary_"
   ]
  },
  {
   "cell_type": "code",
   "execution_count": 12,
   "metadata": {
    "collapsed": true
   },
   "outputs": [],
   "source": [
    "title_court_vectorizer1 = CountVectorizer(analyzer = \"word\",   \n",
    "                             tokenizer = None,\n",
    "                             ngram_range=(1, 3),\n",
    "                             preprocessor = None, \n",
    "                             stop_words = None,   \n",
    "                             max_features = 2500) \n",
    "title_court_vectorizer2 = CountVectorizer(analyzer = \"word\",   \n",
    "                             tokenizer = None,\n",
    "                             ngram_range=(1, 3),\n",
    "                             preprocessor = None, \n",
    "                             stop_words = None,   \n",
    "                             max_features = 2500) "
   ]
  },
  {
   "cell_type": "code",
   "execution_count": 17,
   "metadata": {
    "collapsed": true
   },
   "outputs": [],
   "source": []
  },
  {
   "cell_type": "code",
   "execution_count": 14,
   "metadata": {
    "collapsed": true
   },
   "outputs": [],
   "source": [
    "train_title_features1 = title_court_vectorizer1.fit_transform((x1_train.Title).values.astype('U'))\n",
    "train_title_features1 = train_title_features1.toarray()\n",
    "test_title_features1 = title_court_vectorizer1.transform((x1_test.Title).values.astype('U'))\n",
    "test_title_features1 = test_title_features1.toarray()\n",
    "\n",
    "train_title_features2 = title_court_vectorizer2.fit_transform((x2_train.Title).values.astype('U'))\n",
    "train_title_features2 = train_title_features2.toarray()\n",
    "test_title_features2 = title_court_vectorizer2.transform((x2_test.Title).values.astype('U'))\n",
    "test_title_features2 = test_title_features2.toarray()\n",
    "\n",
    "#import pickle\n",
    "# pickle.dump(title_court_vectorizer,open('title_court_vectorizer_v2.pickle','wb'))"
   ]
  },
  {
   "cell_type": "code",
   "execution_count": 27,
   "metadata": {
    "collapsed": true
   },
   "outputs": [],
   "source": [
    "# train_title_idf_features = title_idf_transformer.fit_transform(train_title_features)\n",
    "# train_title_idf_features=train_title_idf_features.toarray()\n",
    "# test_title_idf_features = title_idf_transformer.transform(test_title_features)\n",
    "# test_title_idf_features=test_title_idf_features.toarray()"
   ]
  },
  {
   "cell_type": "code",
   "execution_count": null,
   "metadata": {
    "collapsed": true
   },
   "outputs": [],
   "source": []
  },
  {
   "cell_type": "code",
   "execution_count": 47,
   "metadata": {
    "collapsed": true
   },
   "outputs": [],
   "source": [
    "from sklearn.preprocessing import StandardScaler\n",
    "#model_tSNE_all = TSNE(n_components=2, random_state=0)\n",
    "total_scale_train1=StandardScaler().fit(np.concatenate((train_text_features1,\n",
    "                                                     train_title_features1,x1_train[['Title_str_len', 'Text_len_p1', 'Text_len_p2',\n",
    "                                      'Title_len', 'Text_str_len','Image','Tweet']]),axis=1))\n",
    "\n",
    "total_train_scale1=total_scale_train1.transform(np.concatenate((train_text_features1,\n",
    "                                                     train_title_features1,x1_train[[\n",
    "                                                         'Title_str_len', 'Text_len_p1',\n",
    "                                                         'Text_len_p2',\n",
    "                                      'Title_len', 'Text_str_len','Image','Tweet']]),axis=1))\n",
    "\n",
    "\n",
    "total_test_scale1=total_scale_train1.transform(np.concatenate((test_text_features1,\n",
    "                                                             test_title_features1, \n",
    "                                                x1_test[['Title_str_len', 'Text_len_p1',\n",
    "                                                        'Text_len_p2',\n",
    "                                      'Title_len', 'Text_str_len','Image','Tweet']]),axis=1))\n",
    "\n",
    "from sklearn.decomposition import PCA\n",
    "train_pca1=PCA(n_components=1500, svd_solver='full')\n",
    "\n",
    "train_pca1.fit(total_train_scale1)\n",
    "\n",
    "x_train_pca1=train_pca1.fit_transform(total_train_scale1)\n",
    "\n",
    "x_test_pca1=train_pca1.transform(total_test_scale1)\n",
    "\n"
   ]
  },
  {
   "cell_type": "code",
   "execution_count": 54,
   "metadata": {
    "collapsed": true
   },
   "outputs": [],
   "source": [
    "total_scale_train2=StandardScaler().fit(np.concatenate((train_text_features2,\n",
    "                                                     train_title_features2,x2_train[['Title_str_len', 'Text_len_p1', 'Text_len_p2',\n",
    "                                      'Title_len', 'Text_str_len','Image','Tweet']]),axis=1))\n",
    "\n",
    "total_train_scale2=total_scale_train2.transform(np.concatenate((train_text_features2,\n",
    "                                                     train_title_features2,x2_train[[\n",
    "                                                         'Title_str_len', 'Text_len_p1',\n",
    "                                                         'Text_len_p2',\n",
    "                                      'Title_len', 'Text_str_len','Image','Tweet']]),axis=1))\n",
    "\n",
    "\n",
    "total_test_scale2=total_scale_train2.transform(np.concatenate((test_text_features2,\n",
    "                                                             test_title_features2, \n",
    "                                                x2_test[['Title_str_len', 'Text_len_p1',\n",
    "                                                        'Text_len_p2',\n",
    "                                      'Title_len', 'Text_str_len','Image','Tweet']]),axis=1))\n",
    "\n",
    "from sklearn.decomposition import PCA\n",
    "train_pca2=PCA(n_components=1500,svd_solver='full')\n",
    "\n",
    "x_train_pca2=train_pca2.fit_transform(total_train_scale2)\n",
    "\n",
    "x_test_pca2=train_pca2.transform(total_test_scale2)"
   ]
  },
  {
   "cell_type": "code",
   "execution_count": 53,
   "metadata": {},
   "outputs": [
    {
     "data": {
      "text/plain": [
       "(2348, 2348)"
      ]
     },
     "execution_count": 53,
     "metadata": {},
     "output_type": "execute_result"
    }
   ],
   "source": [
    "x_train_pca2.shape"
   ]
  },
  {
   "cell_type": "code",
   "execution_count": 30,
   "metadata": {
    "collapsed": true
   },
   "outputs": [],
   "source": [
    "# from sklearn.preprocessing import StandardScaler\n",
    "# #model_tSNE_all = TSNE(n_components=2, random_state=0)\n",
    "# total_scale_train=StandardScaler().fit(np.concatenate((train_text_idf_features,\n",
    "#                                                      train_title_idf_features,x_train[['Title_str_len', 'Text_len_p1', 'Text_len_p2',\n",
    "#                                       'Title_len', 'Text_str_len','Image','Tweet']]),axis=1))\n",
    "\n",
    "# total_train_scale=total_scale_train.transform(np.concatenate((train_text_idf_features,\n",
    "#                                                      train_title_idf_features,x_train[[\n",
    "#                                                          'Title_str_len', 'Text_len_p1',\n",
    "#                                                          'Text_len_p2',\n",
    "#                                       'Title_len', 'Text_str_len','Image','Tweet']]),axis=1))\n",
    "\n",
    "\n",
    "# total_test_scale=total_scale_train.transform(np.concatenate((test_text_idf_features,\n",
    "#                                                              test_title_idf_features, \n",
    "#                                                 x_test[['Title_str_len', 'Text_len_p1',\n",
    "#                                                         'Text_len_p2',\n",
    "#                                       'Title_len', 'Text_str_len','Image','Tweet']]),axis=1))\n",
    "\n",
    "# from sklearn.decomposition import PCA\n",
    "# train_pca=PCA(n_components=1500,svd_solver='full')\n",
    "\n",
    "# x_train_pca=train_pca.fit_transform(total_train_scale)\n",
    "\n",
    "# x_test_pca=train_pca.transform(total_test_scale)\n",
    "\n"
   ]
  },
  {
   "cell_type": "code",
   "execution_count": 96,
   "metadata": {
    "collapsed": true
   },
   "outputs": [],
   "source": [
    "import pickle\n",
    "pickle.dump(total_scale_train,open('total_scale_train_v2.pickle','wb'))\n",
    "pickle.dump(train_pca,open('train_pca.pickle_v2','wb'))"
   ]
  },
  {
   "cell_type": "code",
   "execution_count": 18,
   "metadata": {
    "collapsed": true
   },
   "outputs": [],
   "source": [
    "from sklearn import linear_model, decomposition, datasets\n",
    "from sklearn.pipeline import Pipeline\n",
    "from sklearn.model_selection import GridSearchCV"
   ]
  },
  {
   "cell_type": "code",
   "execution_count": 61,
   "metadata": {
    "collapsed": true
   },
   "outputs": [],
   "source": [
    "Elastic1 = linear_model.ElasticNet()\n",
    "pca1 = decomposition.PCA()\n",
    "pipe1 = Pipeline(steps=[\n",
    "    ('pca1', pca1), \n",
    "                       ('Elastic1', Elastic1)])\n",
    "\n",
    "n_components1 = [ 60,100,200,300]\n",
    "alphas1 = np.logspace(-4, 4, 4)\n",
    "l1_ratio1=( 0.2,0.4,0.6,0.7,0.8,1)\n",
    "\n",
    "estimator1 = GridSearchCV(pipe1,\n",
    "                         dict(pca1__n_components=n_components1,\n",
    "                              Elastic1__alpha=alphas1,Elastic1__l1_ratio=l1_ratio1))\n",
    "\n"
   ]
  },
  {
   "cell_type": "code",
   "execution_count": 63,
   "metadata": {
    "collapsed": true
   },
   "outputs": [],
   "source": [
    "Elastic2 = linear_model.ElasticNet()\n",
    "pca2 = decomposition.PCA()\n",
    "pipe2 = Pipeline(steps=[\n",
    "    ('pca2', pca2), \n",
    "                       ('Elastic2', Elastic2)])\n",
    "\n",
    "n_components2 = [ 60,100,500,750, 1000]\n",
    "alphas2 = np.logspace(-4, 4, 4)\n",
    "l1_ratio2=( 0.2,0.4,0.6,0.7,0.8,1)\n",
    "\n",
    "estimator2 = GridSearchCV(pipe2,\n",
    "                         dict(pca2__n_components=n_components2,\n",
    "                              Elastic2__alpha=alphas2,Elastic2__l1_ratio=l1_ratio2))\n",
    "\n"
   ]
  },
  {
   "cell_type": "code",
   "execution_count": 62,
   "metadata": {},
   "outputs": [
    {
     "data": {
      "text/plain": [
       "GridSearchCV(cv=None, error_score='raise',\n",
       "       estimator=Pipeline(steps=[('pca1', PCA(copy=True, iterated_power='auto', n_components=None, random_state=None,\n",
       "  svd_solver='auto', tol=0.0, whiten=False)), ('Elastic1', ElasticNet(alpha=1.0, copy_X=True, fit_intercept=True, l1_ratio=0.5,\n",
       "      max_iter=1000, normalize=False, positive=False, precompute=False,\n",
       "      random_state=None, selection='cyclic', tol=0.0001, warm_start=False))]),\n",
       "       fit_params={}, iid=True, n_jobs=1,\n",
       "       param_grid={'pca1__n_components': [60, 100, 200, 300], 'Elastic1__alpha': array([  1.00000e-04,   4.64159e-02,   2.15443e+01,   1.00000e+04]), 'Elastic1__l1_ratio': (0.2, 0.4, 0.6, 0.7, 0.8, 1)},\n",
       "       pre_dispatch='2*n_jobs', refit=True, return_train_score=True,\n",
       "       scoring=None, verbose=0)"
      ]
     },
     "execution_count": 62,
     "metadata": {},
     "output_type": "execute_result"
    }
   ],
   "source": [
    "estimator1.fit(x_train_pca1, y1_train)"
   ]
  },
  {
   "cell_type": "code",
   "execution_count": 64,
   "metadata": {},
   "outputs": [
    {
     "data": {
      "text/plain": [
       "GridSearchCV(cv=None, error_score='raise',\n",
       "       estimator=Pipeline(steps=[('pca2', PCA(copy=True, iterated_power='auto', n_components=None, random_state=None,\n",
       "  svd_solver='auto', tol=0.0, whiten=False)), ('Elastic2', ElasticNet(alpha=1.0, copy_X=True, fit_intercept=True, l1_ratio=0.5,\n",
       "      max_iter=1000, normalize=False, positive=False, precompute=False,\n",
       "      random_state=None, selection='cyclic', tol=0.0001, warm_start=False))]),\n",
       "       fit_params={}, iid=True, n_jobs=1,\n",
       "       param_grid={'pca2__n_components': [60, 100, 500, 750, 1000], 'Elastic2__alpha': array([  1.00000e-04,   4.64159e-02,   2.15443e+01,   1.00000e+04]), 'Elastic2__l1_ratio': (0.2, 0.4, 0.6, 0.7, 0.8, 1)},\n",
       "       pre_dispatch='2*n_jobs', refit=True, return_train_score=True,\n",
       "       scoring=None, verbose=0)"
      ]
     },
     "execution_count": 64,
     "metadata": {},
     "output_type": "execute_result"
    }
   ],
   "source": [
    "estimator2.fit(x_train_pca2, y2_train)"
   ]
  },
  {
   "cell_type": "code",
   "execution_count": 66,
   "metadata": {},
   "outputs": [
    {
     "name": "stdout",
     "output_type": "stream",
     "text": [
      "200 0.0001 0.2\n"
     ]
    }
   ],
   "source": [
    "n_comp1=estimator1.best_estimator_.named_steps['pca1'].n_components\n",
    "alpha1=estimator1.best_estimator_.named_steps['Elastic1'].alpha\n",
    "l1_1=estimator1.best_estimator_.named_steps['Elastic1'].l1_ratio\n",
    "\n",
    "\n",
    "print(n_comp1,alpha1,l1_1)\n"
   ]
  },
  {
   "cell_type": "code",
   "execution_count": 68,
   "metadata": {},
   "outputs": [
    {
     "name": "stdout",
     "output_type": "stream",
     "text": [
      "1000 0.0464158883361 0.6\n"
     ]
    }
   ],
   "source": [
    "n_comp2=estimator2.best_estimator_.named_steps['pca2'].n_components\n",
    "alpha2=estimator2.best_estimator_.named_steps['Elastic2'].alpha\n",
    "l1_2=estimator2.best_estimator_.named_steps['Elastic2'].l1_ratio\n",
    "\n",
    "\n",
    "print(n_comp2,alpha2,l1_2)"
   ]
  },
  {
   "cell_type": "code",
   "execution_count": 69,
   "metadata": {
    "collapsed": true
   },
   "outputs": [],
   "source": [
    "Elastic1=linear_model.ElasticNet(alpha=alpha1, \n",
    "                    l1_ratio=l1_1, fit_intercept=True, \n",
    "            normalize=False, precompute=False, max_iter=1000, \n",
    "           copy_X=True, tol=0.0001, warm_start=False, positive=False, \n",
    "           random_state=None, selection='cyclic')"
   ]
  },
  {
   "cell_type": "code",
   "execution_count": 70,
   "metadata": {
    "collapsed": true
   },
   "outputs": [],
   "source": [
    "Elastic2=linear_model.ElasticNet(alpha=alpha2, \n",
    "                    l1_ratio=l1_2, fit_intercept=True, \n",
    "            normalize=False, precompute=False, max_iter=1000, \n",
    "           copy_X=True, tol=0.0001, warm_start=False, positive=False, \n",
    "           random_state=None, selection='cyclic')"
   ]
  },
  {
   "cell_type": "code",
   "execution_count": 72,
   "metadata": {
    "collapsed": true
   },
   "outputs": [],
   "source": [
    "train_Elastic1=Elastic1.fit(x_train_pca1[:,0:n_comp1],y1_train)"
   ]
  },
  {
   "cell_type": "code",
   "execution_count": 74,
   "metadata": {
    "collapsed": true
   },
   "outputs": [],
   "source": [
    "train_Elastic2=Elastic2.fit(x_train_pca2[:,0:n_comp2],y2_train)"
   ]
  },
  {
   "cell_type": "code",
   "execution_count": 95,
   "metadata": {
    "collapsed": true
   },
   "outputs": [],
   "source": [
    "# import pickle\n",
    "# pickle.dump(train_Elastic,open('train_Elastic_v2.pickle','wb'))"
   ]
  },
  {
   "cell_type": "code",
   "execution_count": 75,
   "metadata": {
    "collapsed": true
   },
   "outputs": [],
   "source": [
    "train_predict1=train_Elastic1.predict(x_train_pca1[:,0:n_comp1])"
   ]
  },
  {
   "cell_type": "code",
   "execution_count": 76,
   "metadata": {
    "collapsed": true
   },
   "outputs": [],
   "source": [
    "train_predict2=train_Elastic2.predict(x_train_pca2[:,0:n_comp2])"
   ]
  },
  {
   "cell_type": "code",
   "execution_count": 78,
   "metadata": {},
   "outputs": [
    {
     "data": {
      "text/plain": [
       "0.087167832804372472"
      ]
     },
     "execution_count": 78,
     "metadata": {},
     "output_type": "execute_result"
    }
   ],
   "source": [
    "from sklearn.metrics import mean_squared_error\n",
    "MSE_train1=mean_squared_error(y1_train, train_predict1);MSE_train1"
   ]
  },
  {
   "cell_type": "code",
   "execution_count": 79,
   "metadata": {},
   "outputs": [
    {
     "data": {
      "text/plain": [
       "0.36895017184637985"
      ]
     },
     "execution_count": 79,
     "metadata": {},
     "output_type": "execute_result"
    }
   ],
   "source": [
    "MSE_train2=mean_squared_error(y2_train, train_predict2);MSE_train2"
   ]
  },
  {
   "cell_type": "code",
   "execution_count": 100,
   "metadata": {},
   "outputs": [
    {
     "data": {
      "text/plain": [
       "array([ 2.49136169,  3.78318869,  3.2278867 , ...,  5.75423363,\n",
       "        5.18089969,  6.19276532])"
      ]
     },
     "execution_count": 100,
     "metadata": {},
     "output_type": "execute_result"
    }
   ],
   "source": [
    "np.concatenate((y2_train,y1_train),axis=0)"
   ]
  },
  {
   "cell_type": "code",
   "execution_count": 101,
   "metadata": {},
   "outputs": [
    {
     "data": {
      "text/plain": [
       "<matplotlib.axes._subplots.AxesSubplot at 0x115d03f98>"
      ]
     },
     "execution_count": 101,
     "metadata": {},
     "output_type": "execute_result"
    },
    {
     "data": {
      "image/png": "[encoded data removed]",
      "text/plain": [
       "<matplotlib.figure.Figure at 0x115cf2e48>"
      ]
     },
     "metadata": {},
     "output_type": "display_data"
    }
   ],
   "source": [
    "sns.regplot(x='x',y='y',data=pd.DataFrame({'x':np.concatenate((y2_train,y1_train),axis=0),'y':np.concatenate((train_predict2,train_predict1),axis=0)}))"
   ]
  },
  {
   "cell_type": "code",
   "execution_count": 82,
   "metadata": {
    "collapsed": true
   },
   "outputs": [],
   "source": [
    "test_predict1=train_Elastic1.predict(x_test_pca1[:,0:n_comp1])\n"
   ]
  },
  {
   "cell_type": "code",
   "execution_count": 80,
   "metadata": {
    "collapsed": true
   },
   "outputs": [],
   "source": [
    "test_predict2=train_Elastic2.predict(x_test_pca2[:,0:n_comp2])\n"
   ]
  },
  {
   "cell_type": "code",
   "execution_count": 83,
   "metadata": {},
   "outputs": [
    {
     "data": {
      "text/plain": [
       "0.22983280843728177"
      ]
     },
     "execution_count": 83,
     "metadata": {},
     "output_type": "execute_result"
    }
   ],
   "source": [
    "MSE_test1=mean_squared_error(y1_test, test_predict1); MSE_test1"
   ]
  },
  {
   "cell_type": "code",
   "execution_count": 84,
   "metadata": {},
   "outputs": [
    {
     "data": {
      "text/plain": [
       "0.48611940755547223"
      ]
     },
     "execution_count": 84,
     "metadata": {},
     "output_type": "execute_result"
    }
   ],
   "source": [
    "MSE_test2=mean_squared_error(y2_test, test_predict2); MSE_test2"
   ]
  },
  {
   "cell_type": "code",
   "execution_count": 86,
   "metadata": {},
   "outputs": [
    {
     "data": {
      "text/plain": [
       "0.13726508266397341"
      ]
     },
     "execution_count": 86,
     "metadata": {},
     "output_type": "execute_result"
    }
   ],
   "source": [
    "from sklearn.metrics import r2_score\n",
    "r2_score(y1_test, test_predict1)"
   ]
  },
  {
   "cell_type": "code",
   "execution_count": 87,
   "metadata": {},
   "outputs": [
    {
     "data": {
      "text/plain": [
       "0.092931481298614171"
      ]
     },
     "execution_count": 87,
     "metadata": {},
     "output_type": "execute_result"
    }
   ],
   "source": [
    "r2_score(y2_test, test_predict2)"
   ]
  },
  {
   "cell_type": "code",
   "execution_count": 93,
   "metadata": {},
   "outputs": [
    {
     "data": {
      "text/plain": [
       "<matplotlib.axes._subplots.AxesSubplot at 0x1207ee0b8>"
      ]
     },
     "execution_count": 93,
     "metadata": {},
     "output_type": "execute_result"
    },
    {
     "data": {
      "image/png": "[encoded data removed]",
      "text/plain": [
       "<matplotlib.figure.Figure at 0x11f845940>"
      ]
     },
     "metadata": {},
     "output_type": "display_data"
    }
   ],
   "source": [
    "import seaborn as sns\n",
    "sns.regplot(x='x',y='y',data=pd.DataFrame({'x':y2_test,'y':test_predict2}))"
   ]
  },
  {
   "cell_type": "code",
   "execution_count": 94,
   "metadata": {},
   "outputs": [
    {
     "data": {
      "text/plain": [
       "<matplotlib.axes._subplots.AxesSubplot at 0x120c2f7b8>"
      ]
     },
     "execution_count": 94,
     "metadata": {},
     "output_type": "execute_result"
    },
    {
     "data": {
      "image/png": "[encoded data removed]",
      "text/plain": [
       "<matplotlib.figure.Figure at 0x11f2dba90>"
      ]
     },
     "metadata": {},
     "output_type": "display_data"
    }
   ],
   "source": [
    "sns.regplot(x='x',y='y',data=pd.DataFrame({'x':y1_test,'y':test_predict1}))"
   ]
  }
 ],
 "metadata": {
  "kernelspec": {
   "display_name": "Python 3",
   "language": "python",
   "name": "python3"
  },
  "language_info": {
   "codemirror_mode": {
    "name": "ipython",
    "version": 3
   },
   "file_extension": ".py",
   "mimetype": "text/x-python",
   "name": "python",
   "nbconvert_exporter": "python",
   "pygments_lexer": "ipython3",
   "version": "3.6.1"
  }
 },
 "nbformat": 4,
 "nbformat_minor": 2
}
