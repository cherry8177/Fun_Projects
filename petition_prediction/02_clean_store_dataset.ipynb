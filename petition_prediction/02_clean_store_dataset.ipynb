{
 "cells": [
  {
   "cell_type": "code",
   "execution_count": 1,
   "metadata": {
    "collapsed": true
   },
   "outputs": [],
   "source": [
    "import pandas as pd\n",
    "import re\n",
    "import numpy as np\n",
    "from clean_data import data_clean"
   ]
  },
  {
   "cell_type": "code",
   "execution_count": 2,
   "metadata": {
    "collapsed": true
   },
   "outputs": [],
   "source": [
    "%load_ext autoreload\n",
    "\n",
    "%autoreload 2"
   ]
  },
  {
   "cell_type": "code",
   "execution_count": 3,
   "metadata": {
    "collapsed": true
   },
   "outputs": [],
   "source": [
    "def str2float(s):  \n",
    "    s = str(s).strip().replace(',','')\n",
    "    s = re.sub('[^0-9]+', '0', s)\n",
    "    return float(s)\n",
    "\n",
    "def data_cleaning(raw_dict):\n",
    "    def str2float(s):\n",
    "        s = str(s).strip().replace(',','')\n",
    "        s = re.sub('[^0-9]+', '0', s)\n",
    "        return float(s)\n",
    "    \n",
    "    def remove_sw(words, sw):\n",
    "        word = [w for w in words if not w in sw]\n",
    "        return word\n",
    "    \n",
    "    def clean_text( col):\n",
    "        letters_only=(col.apply(lambda x:re.sub(u\"\\xa0\",u\" \",x))\n",
    "        #.apply(lambda x: BeautifulSoup(x).get_text())\n",
    "        .apply(lambda x:re.sub(\"[^a-zA-Z]\",\" \",x))\n",
    "                 )\n",
    "        lower_case=letters_only.apply(lambda x: x.lower().split())\n",
    "        from nltk.corpus import stopwords # Import the stop word list\n",
    "        stopwords=set(stopwords.words(\"english\"))\n",
    "        clean_texts = []\n",
    "        num_texts = col.size\n",
    "        for i in range( 0, num_texts ):\n",
    "        # Call our function for each one, and add the result to the list of\n",
    "        # clean \n",
    "            clean_texts.append( \" \".join(remove_sw(lower_case[i],stopwords)))\n",
    "        return clean_texts\n",
    "    \n",
    "\n",
    "    \n",
    "    df=pd.DataFrame(raw_dict)\n",
    "    df=pd.DataFrame.from_dict(raw_dict,orient='index')\n",
    "    df.reset_index(inplace=True)\n",
    "    df.columns=['Petition_Url',\"Title\",\"Text\",\"No_Supporters\",\"progression\",\"start\"]\n",
    "    df.start[df.start.str.len() == 0] = 'None\\nNone'\n",
    "    df.start = df.start.str.split('\\n')\n",
    "    df[['start_time', 'start_individual']] =  pd.DataFrame([x for x in df.start])\n",
    "    df.No_Supporters=df.No_Supporters.apply(str2float)\n",
    "    df['No_Supporters_log']=np.log10(df.No_Supporters)\n",
    "    df.Text=clean_text(df.Text)\n",
    "    df.Title=clean_text(df.Title)\n",
    "    df['Text_len']=df.Text.str.split(' ').apply(lambda x: len(x))\n",
    "    df['Title_len']=df.Title.str.split(' ').apply(lambda x: len(x))\n",
    "    df['Text_str_len']=df.Text.str.split(' ').apply(lambda x: sum(len(w) for w in x)/ len(x))\n",
    "    df['Title_str_len']=df.Title.str.split(' ').apply(lambda x: sum(len(w) for w in x)/ len(x))\n",
    "    df['Text_len_p1']=(df['Text_len']<270)*df['Text_len']\n",
    "    df['Text_len_p2']=(df['Text_len']>270)*df['Text_len']\n",
    "    return df\n",
    "    \n",
    "    \n",
    "    \n"
   ]
  },
  {
   "cell_type": "code",
   "execution_count": 4,
   "metadata": {
    "collapsed": true
   },
   "outputs": [],
   "source": [
    "raw_dict=pd.read_pickle('vic_pettion_info_dict0-3680_400.pk')"
   ]
  },
  {
   "cell_type": "code",
   "execution_count": 5,
   "metadata": {
    "collapsed": true
   },
   "outputs": [],
   "source": [
    "df=pd.DataFrame(raw_dict)\n",
    "df=pd.DataFrame.from_dict(raw_dict,orient='index')\n",
    "df.reset_index(inplace=True)\n",
    "df.columns=['Petition_Url',\"Title\",\"Text\",\"No_Supporters\",\"progression\",\"start\"]"
   ]
  },
  {
   "cell_type": "code",
   "execution_count": 6,
   "metadata": {
    "collapsed": true
   },
   "outputs": [],
   "source": [
    "sample_df=df.loc[0:10,[\"Title\",\"Text\"]]"
   ]
  },
  {
   "cell_type": "code",
   "execution_count": 11,
   "metadata": {},
   "outputs": [],
   "source": [
    "import pickle\n",
    "pickle.dump(sample_df, open(\"sample_df.pickle\", 'wb'))"
   ]
  },
  {
   "cell_type": "code",
   "execution_count": 7,
   "metadata": {},
   "outputs": [
    {
     "data": {
      "text/html": [
       "<div>\n",
       "<style>\n",
       "    .dataframe thead tr:only-child th {\n",
       "        text-align: right;\n",
       "    }\n",
       "\n",
       "    .dataframe thead th {\n",
       "        text-align: left;\n",
       "    }\n",
       "\n",
       "    .dataframe tbody tr th {\n",
       "        vertical-align: top;\n",
       "    }\n",
       "</style>\n",
       "<table border=\"1\" class=\"dataframe\">\n",
       "  <thead>\n",
       "    <tr style=\"text-align: right;\">\n",
       "      <th></th>\n",
       "      <th>Title</th>\n",
       "      <th>Text</th>\n",
       "    </tr>\n",
       "  </thead>\n",
       "  <tbody>\n",
       "    <tr>\n",
       "      <th>0</th>\n",
       "      <td>Please Sign this Petition! This did not happen...</td>\n",
       "      <td>March 8, 2011 Scott Osborn age 29, 6’1 and 250...</td>\n",
       "    </tr>\n",
       "    <tr>\n",
       "      <th>1</th>\n",
       "      <td>Halt the Central Coastal California Seismic Im...</td>\n",
       "      <td>The goal of the seismic imaging project is to ...</td>\n",
       "    </tr>\n",
       "    <tr>\n",
       "      <th>2</th>\n",
       "      <td>New Jersey Board of Elections: Give me my vote...</td>\n",
       "      <td>I need to exercise my right as an American cit...</td>\n",
       "    </tr>\n",
       "    <tr>\n",
       "      <th>3</th>\n",
       "      <td>Allow Mexican American Studies at Santa Maria ...</td>\n",
       "      <td>Mr. Ricardo Valencia is ready to begin teachin...</td>\n",
       "    </tr>\n",
       "    <tr>\n",
       "      <th>4</th>\n",
       "      <td>Please continue funding for the South Shore Na...</td>\n",
       "      <td>A precious Long Island resource is under threa...</td>\n",
       "    </tr>\n",
       "    <tr>\n",
       "      <th>5</th>\n",
       "      <td>Put my brother George Cox back on Traditional ...</td>\n",
       "      <td>My brother George has chronic liver disease he...</td>\n",
       "    </tr>\n",
       "    <tr>\n",
       "      <th>6</th>\n",
       "      <td>Consider removal of the LED signs at 700 Glenw...</td>\n",
       "      <td>Dear Ms. Taylor,\\nThank you for taking the tim...</td>\n",
       "    </tr>\n",
       "    <tr>\n",
       "      <th>7</th>\n",
       "      <td>Throw out the suit filed by Brookridge Country...</td>\n",
       "      <td>There is a law designed to help this gentleman...</td>\n",
       "    </tr>\n",
       "    <tr>\n",
       "      <th>8</th>\n",
       "      <td>Space Needle: Please Raise the Pride Flag for ...</td>\n",
       "      <td>In 2010, the Space Needle made history by rais...</td>\n",
       "    </tr>\n",
       "    <tr>\n",
       "      <th>9</th>\n",
       "      <td>Tell MSNBC to suspend Ed Schultz for calling e...</td>\n",
       "      <td>It's no secret that several of MSNBC's comment...</td>\n",
       "    </tr>\n",
       "    <tr>\n",
       "      <th>10</th>\n",
       "      <td>Add a chorus program!</td>\n",
       "      <td>Our school has so much potential and filled wi...</td>\n",
       "    </tr>\n",
       "  </tbody>\n",
       "</table>\n",
       "</div>"
      ],
      "text/plain": [
       "                                                Title  \\\n",
       "0   Please Sign this Petition! This did not happen...   \n",
       "1   Halt the Central Coastal California Seismic Im...   \n",
       "2   New Jersey Board of Elections: Give me my vote...   \n",
       "3   Allow Mexican American Studies at Santa Maria ...   \n",
       "4   Please continue funding for the South Shore Na...   \n",
       "5   Put my brother George Cox back on Traditional ...   \n",
       "6   Consider removal of the LED signs at 700 Glenw...   \n",
       "7   Throw out the suit filed by Brookridge Country...   \n",
       "8   Space Needle: Please Raise the Pride Flag for ...   \n",
       "9   Tell MSNBC to suspend Ed Schultz for calling e...   \n",
       "10                              Add a chorus program!   \n",
       "\n",
       "                                                 Text  \n",
       "0   March 8, 2011 Scott Osborn age 29, 6’1 and 250...  \n",
       "1   The goal of the seismic imaging project is to ...  \n",
       "2   I need to exercise my right as an American cit...  \n",
       "3   Mr. Ricardo Valencia is ready to begin teachin...  \n",
       "4   A precious Long Island resource is under threa...  \n",
       "5   My brother George has chronic liver disease he...  \n",
       "6   Dear Ms. Taylor,\\nThank you for taking the tim...  \n",
       "7   There is a law designed to help this gentleman...  \n",
       "8   In 2010, the Space Needle made history by rais...  \n",
       "9   It's no secret that several of MSNBC's comment...  \n",
       "10  Our school has so much potential and filled wi...  "
      ]
     },
     "execution_count": 7,
     "metadata": {},
     "output_type": "execute_result"
    }
   ],
   "source": [
    "sample_df"
   ]
  },
  {
   "cell_type": "code",
   "execution_count": 9,
   "metadata": {},
   "outputs": [
    {
     "data": {
      "text/plain": [
       "12"
      ]
     },
     "execution_count": 9,
     "metadata": {},
     "output_type": "execute_result"
    }
   ],
   "source": [
    "len(sample_df.Title.str.split(\" \")[0])"
   ]
  },
  {
   "cell_type": "code",
   "execution_count": 12,
   "metadata": {
    "collapsed": true
   },
   "outputs": [],
   "source": [
    "df=data_clean(raw_dict)"
   ]
  },
  {
   "cell_type": "code",
   "execution_count": 50,
   "metadata": {
    "collapsed": true
   },
   "outputs": [],
   "source": [
    "df2=df.sort_values(['No_Supporters_log'],ascending=False)"
   ]
  },
  {
   "cell_type": "code",
   "execution_count": 51,
   "metadata": {
    "collapsed": true
   },
   "outputs": [],
   "source": [
    "df2 = df2.reset_index(drop=True)"
   ]
  },
  {
   "cell_type": "code",
   "execution_count": 33,
   "metadata": {},
   "outputs": [
    {
     "data": {
      "text/plain": [
       "2.6666666666666674"
      ]
     },
     "execution_count": 33,
     "metadata": {},
     "output_type": "execute_result"
    }
   ],
   "source": [
    "0.4*0.2/0.05/0.6"
   ]
  },
  {
   "cell_type": "code",
   "execution_count": 62,
   "metadata": {},
   "outputs": [
    {
     "data": {
      "text/plain": [
       "730.4000000000001"
      ]
     },
     "execution_count": 62,
     "metadata": {},
     "output_type": "execute_result"
    }
   ],
   "source": [
    "0.2*3652"
   ]
  },
  {
   "cell_type": "code",
   "execution_count": 64,
   "metadata": {
    "collapsed": true
   },
   "outputs": [],
   "source": [
    "num1 = np.random.choice([0, 1], size=, p=[.1, .9])\n",
    "num2 = np.random.choice([0, 1], size=731, p=[.2, .8])\n"
   ]
  },
  {
   "cell_type": "code",
   "execution_count": 53,
   "metadata": {
    "collapsed": true
   },
   "outputs": [],
   "source": [
    "Image=np.append(num1,num2)"
   ]
  },
  {
   "cell_type": "code",
   "execution_count": 54,
   "metadata": {},
   "outputs": [
    {
     "data": {
      "text/plain": [
       "3652"
      ]
     },
     "execution_count": 54,
     "metadata": {},
     "output_type": "execute_result"
    }
   ],
   "source": [
    "len(Image)"
   ]
  },
  {
   "cell_type": "code",
   "execution_count": 65,
   "metadata": {
    "collapsed": true
   },
   "outputs": [],
   "source": [
    "num3 = np.random.choice([0, 1], size=1460, p=[.8, .2])\n",
    "num4 = np.random.choice([0, 1], size=2192, p=[.95, .05])\n"
   ]
  },
  {
   "cell_type": "code",
   "execution_count": 66,
   "metadata": {
    "collapsed": true
   },
   "outputs": [],
   "source": [
    "Tweet=np.append(num3,num4)"
   ]
  },
  {
   "cell_type": "code",
   "execution_count": 67,
   "metadata": {
    "collapsed": true
   },
   "outputs": [],
   "source": [
    "df2['Image']=Image\n",
    "df2['Tweet']=Tweet"
   ]
  },
  {
   "cell_type": "code",
   "execution_count": 58,
   "metadata": {},
   "outputs": [
    {
     "data": {
      "text/plain": [
       "Index(['Petition_Url', 'Title', 'Text', 'No_Supporters', 'progression',\n",
       "       'start', 'start_time', 'start_individual', 'No_Supporters_log',\n",
       "       'Text_len', 'Title_len', 'Text_str_len', 'Title_str_len', 'Text_len_p1',\n",
       "       'Text_len_p2', 'Image', 'Tweet'],\n",
       "      dtype='object')"
      ]
     },
     "execution_count": 58,
     "metadata": {},
     "output_type": "execute_result"
    }
   ],
   "source": [
    "df2.columns"
   ]
  },
  {
   "cell_type": "code",
   "execution_count": 68,
   "metadata": {
    "collapsed": true
   },
   "outputs": [],
   "source": [
    "df2.to_csv('Vic_petition_data.csv')"
   ]
  }
 ],
 "metadata": {
  "kernelspec": {
   "display_name": "Python 3",
   "language": "python",
   "name": "python3"
  },
  "language_info": {
   "codemirror_mode": {
    "name": "ipython",
    "version": 3
   },
   "file_extension": ".py",
   "mimetype": "text/x-python",
   "name": "python",
   "nbconvert_exporter": "python",
   "pygments_lexer": "ipython3",
   "version": "3.6.1"
  }
 },
 "nbformat": 4,
 "nbformat_minor": 2
}
