{
 "cells": [
  {
   "cell_type": "code",
   "execution_count": 1,
   "metadata": {
    "collapsed": true
   },
   "outputs": [],
   "source": [
    "\n",
    "import pandas as pd"
   ]
  },
  {
   "cell_type": "code",
   "execution_count": 50,
   "metadata": {
    "collapsed": true
   },
   "outputs": [],
   "source": [
    "\n",
    "Title1 = \"Don't abandon chimpanzees for whom you promised to provide lifetime care!\"\n",
    "\n",
    "Text1 = \" Sixty six captive chimpanzees in Liberia, Africa have been abandoned by the \\\n",
    "    New York Blood Center (NYBC)—an organization with assets of $450 million and major \\\n",
    "    corporate partners. The chimpanzees are in danger of dehydration and starvation. Please\\\n",
    "    sign the petition to urge NYBC to reinstate funding for this chimpanzee colony before its,\"\n",
    "\n",
    "Image1 = 0\n",
    "Tweet1 = 1\n",
    "Goal_No1 = '20000'\n",
    "\n",
    "raw_dict={'Title':[Title1],'Text':[Text1],'Goal_No':[Goal_No1] }"
   ]
  },
  {
   "cell_type": "code",
   "execution_count": 51,
   "metadata": {
    "collapsed": true
   },
   "outputs": [],
   "source": [
    "df=pd.DataFrame(raw_dict)\n"
   ]
  },
  {
   "cell_type": "code",
   "execution_count": 52,
   "metadata": {},
   "outputs": [
    {
     "data": {
      "text/html": [
       "<div>\n",
       "<style>\n",
       "    .dataframe thead tr:only-child th {\n",
       "        text-align: right;\n",
       "    }\n",
       "\n",
       "    .dataframe thead th {\n",
       "        text-align: left;\n",
       "    }\n",
       "\n",
       "    .dataframe tbody tr th {\n",
       "        vertical-align: top;\n",
       "    }\n",
       "</style>\n",
       "<table border=\"1\" class=\"dataframe\">\n",
       "  <thead>\n",
       "    <tr style=\"text-align: right;\">\n",
       "      <th></th>\n",
       "      <th>Goal_No</th>\n",
       "      <th>Text</th>\n",
       "      <th>Title</th>\n",
       "    </tr>\n",
       "  </thead>\n",
       "  <tbody>\n",
       "    <tr>\n",
       "      <th>0</th>\n",
       "      <td>20000</td>\n",
       "      <td>Sixty six captive chimpanzees in Liberia, Afr...</td>\n",
       "      <td>Don't abandon chimpanzees for whom you promise...</td>\n",
       "    </tr>\n",
       "  </tbody>\n",
       "</table>\n",
       "</div>"
      ],
      "text/plain": [
       "  Goal_No                                               Text  \\\n",
       "0   20000   Sixty six captive chimpanzees in Liberia, Afr...   \n",
       "\n",
       "                                               Title  \n",
       "0  Don't abandon chimpanzees for whom you promise...  "
      ]
     },
     "execution_count": 52,
     "metadata": {},
     "output_type": "execute_result"
    }
   ],
   "source": [
    "df"
   ]
  },
  {
   "cell_type": "code",
   "execution_count": 53,
   "metadata": {
    "collapsed": true
   },
   "outputs": [],
   "source": [
    "def str2float(s):\n",
    "    import re\n",
    "    s = str(s).strip().replace(',','')\n",
    "    s = re.sub('[^0-9]+', '0', s)\n",
    "    return float(s)"
   ]
  },
  {
   "cell_type": "code",
   "execution_count": 64,
   "metadata": {
    "collapsed": true
   },
   "outputs": [],
   "source": [
    "def data_clean(Title1,Text1,Goal_No1):\n",
    "    import re\n",
    "    def str2float(s):\n",
    "        s = str(s).strip().replace(',','')\n",
    "        s = re.sub('[^0-9]+', '0', s)\n",
    "        return float(s)\n",
    "    \n",
    "    def remove_sw(words, sw):\n",
    "        word = [w for w in words if not w in sw]\n",
    "        return word\n",
    "    \n",
    "    def clean_text( col):\n",
    "        letters_only=(col.apply(lambda x:re.sub(u\"\\xa0\",u\" \",x))\n",
    "        #.apply(lambda x: BeautifulSoup(x).get_text())\n",
    "        .apply(lambda x:re.sub(\"[^a-zA-Z]\",\" \",x))\n",
    "                 )\n",
    "        lower_case=letters_only.apply(lambda x: x.lower().split())\n",
    "        from nltk.corpus import stopwords # Import the stop word list\n",
    "        stopwords=set(stopwords.words(\"english\"))\n",
    "        clean_texts = []\n",
    "        num_texts = col.size\n",
    "        for i in range( 0, num_texts ):\n",
    "        # Call our function for each one, and add the result to the list of\n",
    "        # clean \n",
    "            clean_texts.append( \" \".join(remove_sw(lower_case[i],stopwords)))\n",
    "        return clean_texts\n",
    "    \n",
    "\n",
    "    raw_dict={'Title':[Title1],'Text':[Text1],'Goal_No':[Goal_No1]}\n",
    "    df=pd.DataFrame(raw_dict)\n",
    "    df.Goal_No=df.Goal_No.apply(str2float)\n",
    "    df.Text=clean_text(df.Text)\n",
    "    df.Title=clean_text(df.Title)\n",
    "    df['Text_len']=df.Text.str.split(' ').apply(lambda x: len(x))\n",
    "    df['Title_len']=df.Title.str.split(' ').apply(lambda x: len(x))\n",
    "    df['Text_str_len']=df.Text.str.split(' ').apply(lambda x: sum(len(w) for w in x)/ len(x))\n",
    "    df['Title_str_len']=df.Title.str.split(' ').apply(lambda x: sum(len(w) for w in x)/ len(x))\n",
    "    df['Text_len_p1']=(df['Text_len']<270)*df['Text_len']\n",
    "    df['Text_len_p2']=(df['Text_len']>270)*df['Text_len']\n",
    "    return df\n",
    "    \n",
    "    \n",
    "    \n"
   ]
  },
  {
   "cell_type": "code",
   "execution_count": 65,
   "metadata": {
    "collapsed": true
   },
   "outputs": [],
   "source": [
    "df=data_clean(Title1,Text1,Goal_No1)"
   ]
  },
  {
   "cell_type": "code",
   "execution_count": 68,
   "metadata": {
    "collapsed": true
   },
   "outputs": [],
   "source": [
    "def data_vectorize(df):\n",
    "    import pickle\n",
    "    from sklearn.decomposition import PCA\n",
    "    from sklearn.preprocessing import StandardScaler\n",
    "    from sklearn.feature_extraction.text import CountVectorizer\n",
    "    import numpy as np\n",
    "    \n",
    "    with open('text_court_vectorizer.pickle','rb') as f:\n",
    "        text_court_vectorizer=pickle.load(f)\n",
    "    with open('title_court_vectorizer.pickle','rb') as f:\n",
    "        title_court_vectorizer=pickle.load(f)\n",
    "    with open('total_scale_train.pickle','rb') as f:\n",
    "        total_scale_train=pickle.load(f)\n",
    "    with open('train_pca.pickle','rb') as f:\n",
    "        train_pca=pickle.load(f)\n",
    "    \n",
    "    \n",
    "    test_text_features = text_court_vectorizer.transform(df.Text)\n",
    "    test_text_features = test_text_features.toarray()  \n",
    "    test_title_features = title_court_vectorizer.transform(df.Title)\n",
    "    test_title_features = test_title_features.toarray()\n",
    "    \n",
    "\n",
    "    test_all_features=total_scale_train.transform(np.concatenate((\n",
    "                        test_text_features,test_title_features,\n",
    "                        df[['Title_str_len', 'Text_len_p1', 'Text_len_p2', \n",
    "                        'Title_len', 'Text_str_len']]),axis=1))\n",
    "    \n",
    "    \n",
    "    x_test_pca=train_pca.transform(test_all_features)\n",
    "    \n",
    "    return x_test_pca\n",
    "    \n",
    "    \n",
    "    "
   ]
  },
  {
   "cell_type": "code",
   "execution_count": 69,
   "metadata": {
    "collapsed": true
   },
   "outputs": [],
   "source": [
    "x_test_pca=data_vectorize(df)"
   ]
  },
  {
   "cell_type": "code",
   "execution_count": 72,
   "metadata": {
    "collapsed": true
   },
   "outputs": [],
   "source": [
    "def data_predict(x_test_pca):\n",
    "    with open('train_Elastic.pickle','rb') as f:\n",
    "        train_Elastic=pickle.load(f)\n",
    "    test_predict=train_Elastic.predict(x_test_pca[:,0:500])\n",
    "    return test_predict"
   ]
  },
  {
   "cell_type": "code",
   "execution_count": 87,
   "metadata": {
    "collapsed": true
   },
   "outputs": [],
   "source": [
    "y_predict=data_predict(x_test_pca)"
   ]
  },
  {
   "cell_type": "code",
   "execution_count": 74,
   "metadata": {},
   "outputs": [
    {
     "data": {
      "text/plain": [
       "3975"
      ]
     },
     "execution_count": 74,
     "metadata": {},
     "output_type": "execute_result"
    }
   ],
   "source": [
    "int(10**data_predict(x_test_pca))"
   ]
  },
  {
   "cell_type": "code",
   "execution_count": 75,
   "metadata": {
    "collapsed": true
   },
   "outputs": [],
   "source": [
    "def plot_prob(mu,log_goal):\n",
    "    import seaborn as sns\n",
    "    import matplotlib.pyplot as plt\n",
    "    import numpy as np\n",
    "    import matplotlib.mlab as mlab\n",
    "    import math\n",
    "    variance=0.88\n",
    "    x = np.linspace(mu-4*variance,mu+4*variance, 100)\n",
    "    y = mlab.normpdf(x, mu, variance ** (1/2))\n",
    "    plot = plt.plot(x,y)\n",
    "    vertical_line = log_goal\n",
    "    plt.fill_betweenx(y, vertical_line, x, where=x<vertical_line, alpha=0.5)\n",
    "    \n"
   ]
  },
  {
   "cell_type": "code",
   "execution_count": 128,
   "metadata": {},
   "outputs": [
    {
     "data": {
      "text/plain": [
       "[9.9999999999999995e-07,\n",
       " 1.5775159641636788e-06,\n",
       " 2.4885566171912612e-06,\n",
       " 3.9257377913443756e-06,\n",
       " 6.1929140369664131e-06,\n",
       " 9.769420758007831e-06,\n",
       " 1.5411417206389382e-05,\n",
       " 2.4311756673466053e-05,\n",
       " 3.8352184269255556e-05,\n",
       " 6.0501182945297748e-05,\n",
       " 9.5441581946994496e-05,\n",
       " 0.00015056061916641963,\n",
       " 0.00023751178030939494,\n",
       " 0.00037467862511500699,\n",
       " 0.0005910615125498212,\n",
       " 0.00093240897185007353,\n",
       " 0.0014708900382229332,\n",
       " 0.0023203525168260008,\n",
       " 0.0036603931377803874,\n",
       " 0.0057743286099637353,\n",
       " 0.0091090955645448581,\n",
       " 0.014369743672162056,\n",
       " 0.022668500043775647,\n",
       " 0.035759920702701134,\n",
       " 0.056411845785738282,\n",
       " 0.088990587294941678,\n",
       " 0.14038407211807194,\n",
       " 0.22145811488056369,\n",
       " 0.34935371161768247,\n",
       " 0.55111105721672815,\n",
       " 0.8693864907865112,\n",
       " 1.3714710682439606,\n",
       " 2.1635175045434618,\n",
       " 3.4129834021648757,\n",
       " 5.3840358023407564,\n",
       " 8.4934024298213444,\n",
       " 13.39847792310975,\n",
       " 21.136312819200199,\n",
       " 33.342870895845728,\n",
       " 52.598911129245131,\n",
       " 82.975622004010788,\n",
       " 130.89536834773804,\n",
       " 206.48953320364146,\n",
       " 325.74053506145106,\n",
       " 513.86089423465648,\n",
       " 810.62376401459608,\n",
       " 1278.7719286634733,\n",
       " 2017.2831319910104,\n",
       " 3182.2963449539179,\n",
       " 5020.1232868645202,\n",
       " 7919.3246270986365,\n",
       " 12492.861024642645,\n",
       " 19707.687704452026,\n",
       " 31089.191970525255,\n",
       " 49043.696646452947,\n",
       " 77367.214401380043,\n",
       " 122048.01582105084,\n",
       " 192532.69335220935,\n",
       " 303723.39738653979,\n",
       " 479128.50806729647,\n",
       " 755832.87036208459,\n",
       " 1192338.4192358472,\n",
       " 1880932.8910302303,\n",
       " 2967201.6631207354,\n",
       " 4680807.9924659682,\n",
       " 7384049.3332999907,\n",
       " 11648455.70345293,\n",
       " 18375624.830050413,\n",
       " 28987841.520887073,\n",
       " 45728782.765845999,\n",
       " 72137884.834895119,\n",
       " 113798664.94804776,\n",
       " 179519210.65605935,\n",
       " 283194420.68399549,\n",
       " 446743719.59108663,\n",
       " 704745349.54480267,\n",
       " 1111747039.5770359,\n",
       " 1753798703.044487,\n",
       " 2766645451.9822278,\n",
       " 4364427367.6828098,\n",
       " 6884953846.9524803,\n",
       " 10861124606.097649,\n",
       " 17133597454.890022,\n",
       " 27028523508.643242,\n",
       " 42637927322.657745,\n",
       " 67262011030.34343,\n",
       " 106106896182.12042,\n",
       " 167385322635.15341,\n",
       " 264053018623.64087,\n",
       " 416547852264.4035,\n",
       " 657110886785.19153,\n",
       " 1036602914129.385,\n",
       " 1635257645537.6992,\n",
       " 2579645041356.436,\n",
       " 4069431234615.4595,\n",
       " 6419592737672.1572,\n",
       " 10127010027107.064,\n",
       " 15975519987007.076,\n",
       " 25201637815319.434,\n",
       " 39755985976737.711]"
      ]
     },
     "execution_count": 128,
     "metadata": {},
     "output_type": "execute_result"
    }
   ],
   "source": [
    "x= np.linspace(4-5*2,mu+5*2, 100)\n",
    "xx=[10**w for w in x ];xx"
   ]
  },
  {
   "cell_type": "code",
   "execution_count": 132,
   "metadata": {
    "collapsed": true
   },
   "outputs": [],
   "source": [
    "def plotly_prob(mu, log_goal):\n",
    "    \n",
    "    plotly.tools.set_credentials_file\\\n",
    "    (username='cherry8177', api_key='3FTZrZRMQSDYshs8rxJ7')\n",
    "    variance=0.88\n",
    "    x= np.linspace(mu-5*variance,mu+5*variance, 100)\n",
    "    x_new=[10**w for w in x ]\n",
    "    y = mlab.normpdf(x, mu, (variance ** (1/2)))\n",
    "\n",
    "    x1= np.linspace(log_goal, mu+5*variance, 100)\n",
    "    x1_new=[10**w for w in x1 ]\n",
    "    y1 = mlab.normpdf(x1, mu, (variance ** (1/2)))\n",
    "    \n",
    "    x2=[10**log_goal for _ in range(100)]\n",
    "    y2= np.linspace(0, mlab.normpdf(log_goal, mu, variance ** (1/2)), 100)\n",
    "    \n",
    "    \n",
    "    py.sign_in(username='cherry8177', api_key='3FTZrZRMQSDYshs8rxJ7')\n",
    "    trace1 = {\n",
    "      \"x\": x_new ,\n",
    "      \"y\": y,\n",
    "\n",
    "    \"name\": \"PDF of Prediction Number\", \n",
    "      \"type\": \"scatter\"\n",
    "    }\n",
    "    trace2 = {\n",
    "      \"x\": x1_new,\n",
    "      \"y\": y1,\n",
    "      \"fill\": \"tozeroy\", \n",
    "      \"name\": \"Prob(Predction> Your Goal)\", \n",
    "      \"type\": \"scatter\"\n",
    "    }\n",
    "    trace3 = {\n",
    "      \"x\": x2,\n",
    "      \"y\": y2,\n",
    "      \n",
    "      \"name\": \"Your Goal\", \n",
    "      \"type\": \"scatter\"\n",
    "    }\n",
    "\n",
    "    layout = go.Layout(\n",
    "        title='Your Chace of Reaching the Goal Number',\n",
    "        xaxis=dict(\n",
    "            title='Supporter Number',\n",
    "            type='log',\n",
    "        autorange=True,\n",
    "            titlefont=dict(\n",
    "                family='Courier New, monospace',\n",
    "                size=24,\n",
    "                color='#7f7f7f'\n",
    "            )\n",
    "        ),\n",
    "        yaxis=dict(\n",
    "            title='Probability',\n",
    "            titlefont=dict(\n",
    "                family='Courier New, monospace',\n",
    "                size=24,\n",
    "                color='#7f7f7f'\n",
    "            )\n",
    "        )\n",
    "    )\n",
    "\n",
    "    data = go.Data([trace1, trace2,trace3])\n",
    "\n",
    "    fig = go.Figure(data=data, layout=layout)\n",
    "    #div = plotly.offline.plot(fig, show_link=False, output_type=\"div\", include_plotlyjs=False)\n",
    "\n",
    "    #py.iplot(fig)\n",
    "    return fig"
   ]
  },
  {
   "cell_type": "code",
   "execution_count": 133,
   "metadata": {},
   "outputs": [
    {
     "data": {
      "text/html": [
       "<iframe id=\"igraph\" scrolling=\"no\" style=\"border:none;\" seamless=\"seamless\" src=\"https://plot.ly/~cherry8177/38.embed\" height=\"525px\" width=\"100%\"></iframe>"
      ],
      "text/plain": [
       "<plotly.tools.PlotlyDisplay object>"
      ]
     },
     "execution_count": 133,
     "metadata": {},
     "output_type": "execute_result"
    }
   ],
   "source": [
    "py.iplot(plotly_prob(y_predict,4))"
   ]
  },
  {
   "cell_type": "code",
   "execution_count": null,
   "metadata": {
    "collapsed": true
   },
   "outputs": [],
   "source": []
  },
  {
   "cell_type": "code",
   "execution_count": 81,
   "metadata": {
    "collapsed": true
   },
   "outputs": [],
   "source": [
    "def get_prob(goal_No, y_predict):\n",
    "    import scipy.stats\n",
    "    prob=scipy.stats.norm(goal_No,0.88**0.5).cdf(y_predict)\n",
    "    return prob[0]"
   ]
  },
  {
   "cell_type": "code",
   "execution_count": 80,
   "metadata": {},
   "outputs": [
    {
     "data": {
      "text/plain": [
       "0.73878435751921778"
      ]
     },
     "execution_count": 80,
     "metadata": {},
     "output_type": "execute_result"
    }
   ],
   "source": [
    "import scipy.stats\n",
    "scipy.stats.norm(3, 0.88**0.5 ).cdf(3.6)"
   ]
  }
 ],
 "metadata": {
  "kernelspec": {
   "display_name": "Python 3",
   "language": "python",
   "name": "python3"
  },
  "language_info": {
   "codemirror_mode": {
    "name": "ipython",
    "version": 3
   },
   "file_extension": ".py",
   "mimetype": "text/x-python",
   "name": "python",
   "nbconvert_exporter": "python",
   "pygments_lexer": "ipython3",
   "version": "3.6.1"
  }
 },
 "nbformat": 4,
 "nbformat_minor": 2
}
