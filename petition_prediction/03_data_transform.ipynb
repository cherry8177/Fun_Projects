{
 "cells": [
  {
   "cell_type": "code",
   "execution_count": 1,
   "metadata": {
    "collapsed": true
   },
   "outputs": [],
   "source": [
    "\n",
    "import pandas as pd"
   ]
  },
  {
   "cell_type": "code",
   "execution_count": 50,
   "metadata": {
    "collapsed": true
   },
   "outputs": [],
   "source": [
    "\n",
    "Title1 = \"Don't abandon chimpanzees for whom you promised to provide lifetime care!\"\n",
    "\n",
    "Text1 = \" Sixty six captive chimpanzees in Liberia, Africa have been abandoned by the \\\n",
    "    New York Blood Center (NYBC)—an organization with assets of $450 million and major \\\n",
    "    corporate partners. The chimpanzees are in danger of dehydration and starvation. Please\\\n",
    "    sign the petition to urge NYBC to reinstate funding for this chimpanzee colony before its,\"\n",
    "\n",
    "Image1 = 0\n",
    "Tweet1 = 1\n",
    "Goal_No1 = '20000'\n",
    "\n",
    "raw_dict={'Title':[Title1],'Text':[Text1],'Goal_No':[Goal_No1] }"
   ]
  },
  {
   "cell_type": "code",
   "execution_count": 51,
   "metadata": {
    "collapsed": true
   },
   "outputs": [],
   "source": [
    "df=pd.DataFrame(raw_dict)\n"
   ]
  },
  {
   "cell_type": "code",
   "execution_count": 52,
   "metadata": {},
   "outputs": [
    {
     "data": {
      "text/html": [
       "<div>\n",
       "<style>\n",
       "    .dataframe thead tr:only-child th {\n",
       "        text-align: right;\n",
       "    }\n",
       "\n",
       "    .dataframe thead th {\n",
       "        text-align: left;\n",
       "    }\n",
       "\n",
       "    .dataframe tbody tr th {\n",
       "        vertical-align: top;\n",
       "    }\n",
       "</style>\n",
       "<table border=\"1\" class=\"dataframe\">\n",
       "  <thead>\n",
       "    <tr style=\"text-align: right;\">\n",
       "      <th></th>\n",
       "      <th>Goal_No</th>\n",
       "      <th>Text</th>\n",
       "      <th>Title</th>\n",
       "    </tr>\n",
       "  </thead>\n",
       "  <tbody>\n",
       "    <tr>\n",
       "      <th>0</th>\n",
       "      <td>20000</td>\n",
       "      <td>Sixty six captive chimpanzees in Liberia, Afr...</td>\n",
       "      <td>Don't abandon chimpanzees for whom you promise...</td>\n",
       "    </tr>\n",
       "  </tbody>\n",
       "</table>\n",
       "</div>"
      ],
      "text/plain": [
       "  Goal_No                                               Text  \\\n",
       "0   20000   Sixty six captive chimpanzees in Liberia, Afr...   \n",
       "\n",
       "                                               Title  \n",
       "0  Don't abandon chimpanzees for whom you promise...  "
      ]
     },
     "execution_count": 52,
     "metadata": {},
     "output_type": "execute_result"
    }
   ],
   "source": [
    "df"
   ]
  },
  {
   "cell_type": "code",
   "execution_count": 53,
   "metadata": {
    "collapsed": true
   },
   "outputs": [],
   "source": [
    "def str2float(s):\n",
    "    import re\n",
    "    s = str(s).strip().replace(',','')\n",
    "    s = re.sub('[^0-9]+', '0', s)\n",
    "    return float(s)"
   ]
  },
  {
   "cell_type": "code",
   "execution_count": 64,
   "metadata": {
    "collapsed": true
   },
   "outputs": [],
   "source": [
    "def data_clean(Title1,Text1,Goal_No1):\n",
    "    import re\n",
    "    def str2float(s):\n",
    "        s = str(s).strip().replace(',','')\n",
    "        s = re.sub('[^0-9]+', '0', s)\n",
    "        return float(s)\n",
    "    \n",
    "    def remove_sw(words, sw):\n",
    "        word = [w for w in words if not w in sw]\n",
    "        return word\n",
    "    \n",
    "    def clean_text( col):\n",
    "        letters_only=(col.apply(lambda x:re.sub(u\"\\xa0\",u\" \",x))\n",
    "        #.apply(lambda x: BeautifulSoup(x).get_text())\n",
    "        .apply(lambda x:re.sub(\"[^a-zA-Z]\",\" \",x))\n",
    "                 )\n",
    "        lower_case=letters_only.apply(lambda x: x.lower().split())\n",
    "        from nltk.corpus import stopwords # Import the stop word list\n",
    "        stopwords=set(stopwords.words(\"english\"))\n",
    "        clean_texts = []\n",
    "        num_texts = col.size\n",
    "        for i in range( 0, num_texts ):\n",
    "        # Call our function for each one, and add the result to the list of\n",
    "        # clean \n",
    "            clean_texts.append( \" \".join(remove_sw(lower_case[i],stopwords)))\n",
    "        return clean_texts\n",
    "    \n",
    "\n",
    "    raw_dict={'Title':[Title1],'Text':[Text1],'Goal_No':[Goal_No1]}\n",
    "    df=pd.DataFrame(raw_dict)\n",
    "    df.Goal_No=df.Goal_No.apply(str2float)\n",
    "    df.Text=clean_text(df.Text)\n",
    "    df.Title=clean_text(df.Title)\n",
    "    df['Text_len']=df.Text.str.split(' ').apply(lambda x: len(x))\n",
    "    df['Title_len']=df.Title.str.split(' ').apply(lambda x: len(x))\n",
    "    df['Text_str_len']=df.Text.str.split(' ').apply(lambda x: sum(len(w) for w in x)/ len(x))\n",
    "    df['Title_str_len']=df.Title.str.split(' ').apply(lambda x: sum(len(w) for w in x)/ len(x))\n",
    "    df['Text_len_p1']=(df['Text_len']<270)*df['Text_len']\n",
    "    df['Text_len_p2']=(df['Text_len']>270)*df['Text_len']\n",
    "    return df\n",
    "    \n",
    "    \n",
    "    \n"
   ]
  },
  {
   "cell_type": "code",
   "execution_count": 65,
   "metadata": {
    "collapsed": true
   },
   "outputs": [],
   "source": [
    "df=data_clean(Title1,Text1,Goal_No1)"
   ]
  },
  {
   "cell_type": "code",
   "execution_count": 68,
   "metadata": {
    "collapsed": true
   },
   "outputs": [],
   "source": [
    "def data_vectorize(df):\n",
    "    import pickle\n",
    "    from sklearn.decomposition import PCA\n",
    "    from sklearn.preprocessing import StandardScaler\n",
    "    from sklearn.feature_extraction.text import CountVectorizer\n",
    "    import numpy as np\n",
    "    \n",
    "    with open('text_court_vectorizer.pickle','rb') as f:\n",
    "        text_court_vectorizer=pickle.load(f)\n",
    "    with open('title_court_vectorizer.pickle','rb') as f:\n",
    "        title_court_vectorizer=pickle.load(f)\n",
    "    with open('total_scale_train.pickle','rb') as f:\n",
    "        total_scale_train=pickle.load(f)\n",
    "    with open('train_pca.pickle','rb') as f:\n",
    "        train_pca=pickle.load(f)\n",
    "    \n",
    "    \n",
    "    test_text_features = text_court_vectorizer.transform(df.Text)\n",
    "    test_text_features = test_text_features.toarray()  \n",
    "    test_title_features = title_court_vectorizer.transform(df.Title)\n",
    "    test_title_features = test_title_features.toarray()\n",
    "    \n",
    "\n",
    "    test_all_features=total_scale_train.transform(np.concatenate((\n",
    "                        test_text_features,test_title_features,\n",
    "                        df[['Title_str_len', 'Text_len_p1', 'Text_len_p2', \n",
    "                        'Title_len', 'Text_str_len']]),axis=1))\n",
    "    \n",
    "    \n",
    "    x_test_pca=train_pca.transform(test_all_features)\n",
    "    \n",
    "    return x_test_pca\n",
    "    \n",
    "    \n",
    "    "
   ]
  },
  {
   "cell_type": "code",
   "execution_count": 69,
   "metadata": {
    "collapsed": true
   },
   "outputs": [],
   "source": [
    "x_test_pca=data_vectorize(df)"
   ]
  },
  {
   "cell_type": "code",
   "execution_count": 72,
   "metadata": {
    "collapsed": true
   },
   "outputs": [],
   "source": [
    "def data_predict(x_test_pca):\n",
    "    with open('train_Elastic.pickle','rb') as f:\n",
    "        train_Elastic=pickle.load(f)\n",
    "    test_predict=train_Elastic.predict(x_test_pca[:,0:500])\n",
    "    return test_predict"
   ]
  },
  {
   "cell_type": "code",
   "execution_count": 87,
   "metadata": {
    "collapsed": true
   },
   "outputs": [],
   "source": [
    "y_predict=data_predict(x_test_pca)"
   ]
  },
  {
   "cell_type": "code",
   "execution_count": 74,
   "metadata": {},
   "outputs": [
    {
     "data": {
      "text/plain": [
       "3975"
      ]
     },
     "execution_count": 74,
     "metadata": {},
     "output_type": "execute_result"
    }
   ],
   "source": [
    "int(10**data_predict(x_test_pca))"
   ]
  },
  {
   "cell_type": "code",
   "execution_count": 75,
   "metadata": {
    "collapsed": true
   },
   "outputs": [],
   "source": [
    "def plot_prob(mu,log_goal):\n",
    "    import seaborn as sns\n",
    "    import matplotlib.pyplot as plt\n",
    "    import numpy as np\n",
    "    import matplotlib.mlab as mlab\n",
    "    import math\n",
    "    variance=0.88\n",
    "    x = np.linspace(mu-4*variance,mu+4*variance, 100)\n",
    "    y = mlab.normpdf(x, mu, variance ** (1/2))\n",
    "    plot = plt.plot(x,y)\n",
    "    vertical_line = log_goal\n",
    "    plt.fill_betweenx(y, vertical_line, x, where=x<vertical_line, alpha=0.5)\n",
    "    \n"
   ]
  },
  {
   "cell_type": "code",
   "execution_count": 132,
   "metadata": {
    "collapsed": true
   },
   "outputs": [],
   "source": [
    "def plotly_prob(mu, log_goal):\n",
    "    \n",
    "    variance=0.88\n",
    "    x= np.linspace(mu-5*variance,mu+5*variance, 100)\n",
    "    x_new=[10**w for w in x ]\n",
    "    y = mlab.normpdf(x, mu, (variance ** (1/2)))\n",
    "\n",
    "    x1= np.linspace(log_goal, mu+5*variance, 100)\n",
    "    x1_new=[10**w for w in x1 ]\n",
    "    y1 = mlab.normpdf(x1, mu, (variance ** (1/2)))\n",
    "    \n",
    "    x2=[10**log_goal for _ in range(100)]\n",
    "    y2= np.linspace(0, mlab.normpdf(log_goal, mu, variance ** (1/2)), 100)\n",
    "    \n",
    "    \n",
    "    py.sign_in(username='cherry8177', api_key='3FTZrZRMQSDYshs8rxJ7')\n",
    "    trace1 = {\n",
    "      \"x\": x_new ,\n",
    "      \"y\": y,\n",
    "\n",
    "    \"name\": \"PDF of Prediction Number\", \n",
    "      \"type\": \"scatter\"\n",
    "    }\n",
    "    trace2 = {\n",
    "      \"x\": x1_new,\n",
    "      \"y\": y1,\n",
    "      \"fill\": \"tozeroy\", \n",
    "      \"name\": \"Prob(Predction> Your Goal)\", \n",
    "      \"type\": \"scatter\"\n",
    "    }\n",
    "    trace3 = {\n",
    "      \"x\": x2,\n",
    "      \"y\": y2,\n",
    "      \n",
    "      \"name\": \"Your Goal\", \n",
    "      \"type\": \"scatter\"\n",
    "    }\n",
    "\n",
    "    layout = go.Layout(\n",
    "        title='Your Chace of Reaching the Goal Number',\n",
    "        xaxis=dict(\n",
    "            title='Supporter Number',\n",
    "            type='log',\n",
    "        autorange=True,\n",
    "            titlefont=dict(\n",
    "                family='Courier New, monospace',\n",
    "                size=24,\n",
    "                color='#7f7f7f'\n",
    "            )\n",
    "        ),\n",
    "        yaxis=dict(\n",
    "            title='Probability',\n",
    "            titlefont=dict(\n",
    "                family='Courier New, monospace',\n",
    "                size=24,\n",
    "                color='#7f7f7f'\n",
    "            )\n",
    "        )\n",
    "    )\n",
    "\n",
    "    data = go.Data([trace1, trace2,trace3])\n",
    "\n",
    "    fig = go.Figure(data=data, layout=layout)\n",
    "    #div = plotly.offline.plot(fig, show_link=False, output_type=\"div\", include_plotlyjs=False)\n",
    "\n",
    "    #py.iplot(fig)\n",
    "    return fig"
   ]
  },
  {
   "cell_type": "code",
   "execution_count": 133,
   "metadata": {},
   "outputs": [
    {
     "data": {
      "text/html": [
       "<iframe id=\"igraph\" scrolling=\"no\" style=\"border:none;\" seamless=\"seamless\" src=\"https://plot.ly/~cherry8177/38.embed\" height=\"525px\" width=\"100%\"></iframe>"
      ],
      "text/plain": [
       "<plotly.tools.PlotlyDisplay object>"
      ]
     },
     "execution_count": 133,
     "metadata": {},
     "output_type": "execute_result"
    }
   ],
   "source": [
    "py.iplot(plotly_prob(y_predict,4))"
   ]
  },
  {
   "cell_type": "code",
   "execution_count": null,
   "metadata": {
    "collapsed": true
   },
   "outputs": [],
   "source": []
  },
  {
   "cell_type": "code",
   "execution_count": 81,
   "metadata": {
    "collapsed": true
   },
   "outputs": [],
   "source": [
    "def get_prob(goal_No, y_predict):\n",
    "    import scipy.stats\n",
    "    prob=scipy.stats.norm(goal_No,0.88**0.5).cdf(y_predict)\n",
    "    return prob[0]"
   ]
  }
 ],
 "metadata": {
  "kernelspec": {
   "display_name": "Python 3",
   "language": "python",
   "name": "python3"
  },
  "language_info": {
   "codemirror_mode": {
    "name": "ipython",
    "version": 3
   },
   "file_extension": ".py",
   "mimetype": "text/x-python",
   "name": "python",
   "nbconvert_exporter": "python",
   "pygments_lexer": "ipython3",
   "version": "3.6.1"
  }
 },
 "nbformat": 4,
 "nbformat_minor": 2
}
